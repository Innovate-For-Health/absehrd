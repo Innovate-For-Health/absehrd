{
 "cells": [
  {
   "cell_type": "markdown",
   "metadata": {},
   "source": [
    "# ABSEHRD package demo\n",
    "This notebook demonstrates Automated Brewering Synthetic Electronic Health Record Data (ABSEHRD) package functionality on a toy dataset."
   ]
  },
  {
   "cell_type": "markdown",
   "metadata": {},
   "source": [
    "## Setup"
   ]
  },
  {
   "cell_type": "markdown",
   "metadata": {},
   "source": [
    "### Import python and ABSEHRD modules"
   ]
  },
  {
   "cell_type": "code",
   "execution_count": 1,
   "metadata": {},
   "outputs": [],
   "source": [
    "import numpy as np\n",
    "import matplotlib.pyplot as plt\n",
    "from torch.utils.data import random_split\n",
    "\n",
    "from preprocessor import preprocessor\n",
    "from corgan import corgan\n",
    "from realism import realism\n",
    "from privacy import privacy"
   ]
  },
  {
   "cell_type": "markdown",
   "metadata": {},
   "source": [
    "### Set parameters for the toy dataset and demo"
   ]
  },
  {
   "cell_type": "code",
   "execution_count": 16,
   "metadata": {},
   "outputs": [],
   "source": [
    "# toy dataset\n",
    "n = 10000\n",
    "count_min = 5\n",
    "count_max = 19\n",
    "constant_value = 'helloworld'\n",
    "binary_A = 'A'\n",
    "binary_B = 'B'\n",
    "categorical_values = ['X','Y','Z']\n",
    "\n",
    "# synthetic data generation and validation\n",
    "n_gen = round(n/2)\n",
    "outcome = 'binary01'\n",
    "\n",
    "# sehrd objects\n",
    "pre = preprocessor(missing_value=-99999)\n",
    "rea = realism()\n",
    "pri = privacy()\n",
    "cor = corgan()"
   ]
  },
  {
   "cell_type": "markdown",
   "metadata": {},
   "source": [
    "### Generate the toy dataset"
   ]
  },
  {
   "cell_type": "code",
   "execution_count": 3,
   "metadata": {},
   "outputs": [
    {
     "name": "stdout",
     "output_type": "stream",
     "text": [
      "[['helloworld' '1' 'A' 'Z' '19' '0.885943744109407']\n",
      " ['helloworld' '1' 'A' 'Z' '11' '0.2219293367937306']\n",
      " ['helloworld' '0' 'A' 'X' '8' '0.21600626626574904']\n",
      " ...\n",
      " ['helloworld' '1' 'A' 'Y' '13' '0.2954809236981648']\n",
      " ['helloworld' '0' 'A' 'Z' '15' '0.5313304553590602']\n",
      " ['helloworld' '1' 'B' 'X' '18' '0.8013218184713552']]\n"
     ]
    }
   ],
   "source": [
    "names = ['constant','binary01', 'binaryAB', 'categorical','count','continuous']\n",
    "v_constant = np.full(shape=n, fill_value=constant_value)\n",
    "v_binary01 = np.random.randint(low=0, high=2, size=n)\n",
    "v_binaryAB = np.concatenate((np.full(shape=n-1, fill_value=binary_A), np.array([binary_B])))\n",
    "v_categorical = np.random.choice(categorical_values, size=n)\n",
    "v_count = np.random.randint(low=count_min, high=count_max+1, size=n)\n",
    "v_continuous = np.random.random(size=n)\n",
    "x = np.column_stack((v_constant, v_binary01, v_binaryAB, v_categorical, v_count, v_continuous))\n",
    "print(x)"
   ]
  },
  {
   "cell_type": "markdown",
   "metadata": {},
   "source": [
    "### Split into training and testing set"
   ]
  },
  {
   "cell_type": "code",
   "execution_count": 4,
   "metadata": {},
   "outputs": [
    {
     "name": "stdout",
     "output_type": "stream",
     "text": [
      "Number of training samples: 5000\n",
      "Number of testing samples: 5000\n"
     ]
    }
   ],
   "source": [
    "n_subset = round(len(x) * 0.5)\n",
    "idx_trn = np.random.choice(len(x), n_subset, replace=False)\n",
    "idx_tst = np.setdiff1d(range(len(x)), idx_trn)\n",
    "x_trn = x[idx_trn,:]\n",
    "x_tst = x[idx_tst,:]\n",
    "\n",
    "print('Number of training samples: '+str(len(x_trn)))\n",
    "print('Number of testing samples: '+str(len(x_tst)))"
   ]
  },
  {
   "cell_type": "markdown",
   "metadata": {},
   "source": [
    "## Preprocessing"
   ]
  },
  {
   "cell_type": "markdown",
   "metadata": {},
   "source": [
    "### Save metadata for restoring data format after synthetic data generation"
   ]
  },
  {
   "cell_type": "code",
   "execution_count": 5,
   "metadata": {},
   "outputs": [
    {
     "name": "stdout",
     "output_type": "stream",
     "text": [
      "var_name, var_type, min, max, zero, one, unique, missing\n",
      "[('constant', 'constant', 0.00000000e+00,  0.       , 'helloworld', '', '', False)\n",
      " ('binary01', 'binary', 0.00000000e+00,  0.       , '1', '0', '', False)\n",
      " ('binaryAB', 'binary', 0.00000000e+00,  0.       , 'A', 'B', '', False)\n",
      " ('categorical', 'categorical', 0.00000000e+00,  0.       , '', '', 'X,Y,Z', False)\n",
      " ('count', 'count', 5.00000000e+00, 19.       , '', '', '', False)\n",
      " ('continuous', 'continuous', 1.37901428e-04,  0.9998291, '', '', '', False)]\n"
     ]
    }
   ],
   "source": [
    "m = pre.get_metadata(x=x_trn, header=names)\n",
    "print('var_name, var_type, min, max, zero, one, unique, missing')\n",
    "print(m)"
   ]
  },
  {
   "cell_type": "markdown",
   "metadata": {},
   "source": [
    "### Encode raw data matrix in preparation for training synthetic data generator\n",
    "Note that count and continuous variables have been scaled between 0 and 1 while constant, categorical, and binary have been one-hot encoded."
   ]
  },
  {
   "cell_type": "code",
   "execution_count": 6,
   "metadata": {},
   "outputs": [
    {
     "name": "stdout",
     "output_type": "stream",
     "text": [
      "Formatted matrix:\n",
      "[[0.         0.         1.         ... 0.         0.87804143 0.        ]\n",
      " [0.         0.         0.         ... 0.         0.09351324 0.        ]\n",
      " [0.         0.         0.         ... 0.         0.08564701 0.        ]\n",
      " ...\n",
      " [0.         0.         0.         ... 0.         0.83606231 0.        ]\n",
      " [0.         0.         0.         ... 0.         0.67987786 0.        ]\n",
      " [0.         0.         1.         ... 0.         0.63591133 0.        ]]\n",
      "\n",
      "Header for formatted matrix:\n",
      "['constant__constant' 'constant__-99999' 'binary01__binary01'\n",
      " 'binary01__-99999' 'binaryAB__binaryAB' 'binaryAB__-99999'\n",
      " 'categorical__0' 'categorical__1' 'categorical__2' 'categorical__3'\n",
      " 'count__count' 'count__-99999' 'continuous__continuous'\n",
      " 'continuous__-99999']\n"
     ]
    }
   ],
   "source": [
    "d = pre.get_discretized_matrix(x_trn, m, names)\n",
    "print('Formatted matrix:')\n",
    "print(d['x'])\n",
    "print('\\nHeader for formatted matrix:')\n",
    "print(d['header'])"
   ]
  },
  {
   "cell_type": "markdown",
   "metadata": {},
   "source": [
    "## Generation"
   ]
  },
  {
   "cell_type": "markdown",
   "metadata": {},
   "source": [
    "### Train CorGAN model "
   ]
  },
  {
   "cell_type": "code",
   "execution_count": 7,
   "metadata": {},
   "outputs": [
    {
     "name": "stdout",
     "output_type": "stream",
     "text": [
      "[Epoch 1/100 of pretraining] [Batch 0/5000] [A loss: 10.262]\n",
      "[Epoch 2/100 of pretraining] [Batch 0/5000] [A loss: 9.397]\n",
      "[Epoch 3/100 of pretraining] [Batch 0/5000] [A loss: 8.604]\n",
      "[Epoch 4/100 of pretraining] [Batch 0/5000] [A loss: 7.891]\n",
      "[Epoch 5/100 of pretraining] [Batch 0/5000] [A loss: 7.108]\n",
      "[Epoch 6/100 of pretraining] [Batch 0/5000] [A loss: 6.434]\n",
      "[Epoch 7/100 of pretraining] [Batch 0/5000] [A loss: 5.749]\n",
      "[Epoch 8/100 of pretraining] [Batch 0/5000] [A loss: 5.134]\n",
      "[Epoch 9/100 of pretraining] [Batch 0/5000] [A loss: 4.616]\n",
      "[Epoch 10/100 of pretraining] [Batch 0/5000] [A loss: 4.160]\n",
      "[Epoch 11/100 of pretraining] [Batch 0/5000] [A loss: 3.820]\n",
      "[Epoch 12/100 of pretraining] [Batch 0/5000] [A loss: 3.509]\n",
      "[Epoch 13/100 of pretraining] [Batch 0/5000] [A loss: 3.315]\n",
      "[Epoch 14/100 of pretraining] [Batch 0/5000] [A loss: 3.073]\n",
      "[Epoch 15/100 of pretraining] [Batch 0/5000] [A loss: 2.872]\n",
      "[Epoch 16/100 of pretraining] [Batch 0/5000] [A loss: 2.743]\n",
      "[Epoch 17/100 of pretraining] [Batch 0/5000] [A loss: 2.597]\n",
      "[Epoch 18/100 of pretraining] [Batch 0/5000] [A loss: 2.523]\n",
      "[Epoch 19/100 of pretraining] [Batch 0/5000] [A loss: 2.360]\n",
      "[Epoch 20/100 of pretraining] [Batch 0/5000] [A loss: 2.255]\n",
      "[Epoch 21/100 of pretraining] [Batch 0/5000] [A loss: 2.160]\n",
      "[Epoch 22/100 of pretraining] [Batch 0/5000] [A loss: 2.090]\n",
      "[Epoch 23/100 of pretraining] [Batch 0/5000] [A loss: 2.018]\n",
      "[Epoch 24/100 of pretraining] [Batch 0/5000] [A loss: 1.935]\n",
      "[Epoch 25/100 of pretraining] [Batch 0/5000] [A loss: 1.881]\n",
      "[Epoch 26/100 of pretraining] [Batch 0/5000] [A loss: 1.822]\n",
      "[Epoch 27/100 of pretraining] [Batch 0/5000] [A loss: 1.746]\n",
      "[Epoch 28/100 of pretraining] [Batch 0/5000] [A loss: 1.713]\n",
      "[Epoch 29/100 of pretraining] [Batch 0/5000] [A loss: 1.660]\n",
      "[Epoch 30/100 of pretraining] [Batch 0/5000] [A loss: 1.626]\n",
      "[Epoch 31/100 of pretraining] [Batch 0/5000] [A loss: 1.594]\n",
      "[Epoch 32/100 of pretraining] [Batch 0/5000] [A loss: 1.562]\n",
      "[Epoch 33/100 of pretraining] [Batch 0/5000] [A loss: 1.489]\n",
      "[Epoch 34/100 of pretraining] [Batch 0/5000] [A loss: 1.486]\n",
      "[Epoch 35/100 of pretraining] [Batch 0/5000] [A loss: 1.447]\n",
      "[Epoch 36/100 of pretraining] [Batch 0/5000] [A loss: 1.428]\n",
      "[Epoch 37/100 of pretraining] [Batch 0/5000] [A loss: 1.392]\n",
      "[Epoch 38/100 of pretraining] [Batch 0/5000] [A loss: 1.374]\n",
      "[Epoch 39/100 of pretraining] [Batch 0/5000] [A loss: 1.352]\n",
      "[Epoch 40/100 of pretraining] [Batch 0/5000] [A loss: 1.322]\n",
      "[Epoch 41/100 of pretraining] [Batch 0/5000] [A loss: 1.307]\n",
      "[Epoch 42/100 of pretraining] [Batch 0/5000] [A loss: 1.290]\n",
      "[Epoch 43/100 of pretraining] [Batch 0/5000] [A loss: 1.260]\n",
      "[Epoch 44/100 of pretraining] [Batch 0/5000] [A loss: 1.251]\n",
      "[Epoch 45/100 of pretraining] [Batch 0/5000] [A loss: 1.239]\n",
      "[Epoch 46/100 of pretraining] [Batch 0/5000] [A loss: 1.226]\n",
      "[Epoch 47/100 of pretraining] [Batch 0/5000] [A loss: 1.208]\n",
      "[Epoch 48/100 of pretraining] [Batch 0/5000] [A loss: 1.193]\n",
      "[Epoch 49/100 of pretraining] [Batch 0/5000] [A loss: 1.192]\n",
      "[Epoch 50/100 of pretraining] [Batch 0/5000] [A loss: 1.184]\n",
      "[Epoch 51/100 of pretraining] [Batch 0/5000] [A loss: 1.184]\n",
      "[Epoch 52/100 of pretraining] [Batch 0/5000] [A loss: 1.180]\n",
      "[Epoch 53/100 of pretraining] [Batch 0/5000] [A loss: 1.145]\n",
      "[Epoch 54/100 of pretraining] [Batch 0/5000] [A loss: 1.140]\n",
      "[Epoch 55/100 of pretraining] [Batch 0/5000] [A loss: 1.145]\n",
      "[Epoch 56/100 of pretraining] [Batch 0/5000] [A loss: 1.130]\n",
      "[Epoch 57/100 of pretraining] [Batch 0/5000] [A loss: 1.142]\n",
      "[Epoch 58/100 of pretraining] [Batch 0/5000] [A loss: 1.136]\n",
      "[Epoch 59/100 of pretraining] [Batch 0/5000] [A loss: 1.110]\n",
      "[Epoch 60/100 of pretraining] [Batch 0/5000] [A loss: 1.104]\n",
      "[Epoch 61/100 of pretraining] [Batch 0/5000] [A loss: 1.117]\n",
      "[Epoch 62/100 of pretraining] [Batch 0/5000] [A loss: 1.084]\n",
      "[Epoch 63/100 of pretraining] [Batch 0/5000] [A loss: 1.090]\n",
      "[Epoch 64/100 of pretraining] [Batch 0/5000] [A loss: 1.093]\n",
      "[Epoch 65/100 of pretraining] [Batch 0/5000] [A loss: 1.088]\n",
      "[Epoch 66/100 of pretraining] [Batch 0/5000] [A loss: 1.064]\n",
      "[Epoch 67/100 of pretraining] [Batch 0/5000] [A loss: 1.082]\n",
      "[Epoch 68/100 of pretraining] [Batch 0/5000] [A loss: 1.083]\n",
      "[Epoch 69/100 of pretraining] [Batch 0/5000] [A loss: 1.063]\n",
      "[Epoch 70/100 of pretraining] [Batch 0/5000] [A loss: 1.055]\n",
      "[Epoch 71/100 of pretraining] [Batch 0/5000] [A loss: 1.068]\n",
      "[Epoch 72/100 of pretraining] [Batch 0/5000] [A loss: 1.057]\n",
      "[Epoch 73/100 of pretraining] [Batch 0/5000] [A loss: 1.068]\n",
      "[Epoch 74/100 of pretraining] [Batch 0/5000] [A loss: 1.086]\n",
      "[Epoch 75/100 of pretraining] [Batch 0/5000] [A loss: 1.089]\n",
      "[Epoch 76/100 of pretraining] [Batch 0/5000] [A loss: 1.061]\n",
      "[Epoch 77/100 of pretraining] [Batch 0/5000] [A loss: 1.038]\n",
      "[Epoch 78/100 of pretraining] [Batch 0/5000] [A loss: 1.039]\n",
      "[Epoch 79/100 of pretraining] [Batch 0/5000] [A loss: 1.040]\n",
      "[Epoch 80/100 of pretraining] [Batch 0/5000] [A loss: 1.037]\n",
      "[Epoch 81/100 of pretraining] [Batch 0/5000] [A loss: 1.031]\n",
      "[Epoch 82/100 of pretraining] [Batch 0/5000] [A loss: 1.045]\n",
      "[Epoch 83/100 of pretraining] [Batch 0/5000] [A loss: 1.052]\n",
      "[Epoch 84/100 of pretraining] [Batch 0/5000] [A loss: 1.048]\n",
      "[Epoch 85/100 of pretraining] [Batch 0/5000] [A loss: 1.019]\n",
      "[Epoch 86/100 of pretraining] [Batch 0/5000] [A loss: 1.026]\n",
      "[Epoch 87/100 of pretraining] [Batch 0/5000] [A loss: 1.031]\n",
      "[Epoch 88/100 of pretraining] [Batch 0/5000] [A loss: 1.029]\n",
      "[Epoch 89/100 of pretraining] [Batch 0/5000] [A loss: 1.008]\n",
      "[Epoch 90/100 of pretraining] [Batch 0/5000] [A loss: 1.024]\n",
      "[Epoch 91/100 of pretraining] [Batch 0/5000] [A loss: 1.029]\n",
      "[Epoch 92/100 of pretraining] [Batch 0/5000] [A loss: 1.045]\n",
      "[Epoch 93/100 of pretraining] [Batch 0/5000] [A loss: 1.033]\n",
      "[Epoch 94/100 of pretraining] [Batch 0/5000] [A loss: 1.021]\n",
      "[Epoch 95/100 of pretraining] [Batch 0/5000] [A loss: 1.019]\n",
      "[Epoch 96/100 of pretraining] [Batch 0/5000] [A loss: 1.011]\n",
      "[Epoch 97/100 of pretraining] [Batch 0/5000] [A loss: 1.021]\n",
      "[Epoch 98/100 of pretraining] [Batch 0/5000] [A loss: 1.018]\n",
      "[Epoch 99/100 of pretraining] [Batch 0/5000] [A loss: 1.021]\n",
      "[Epoch 100/100 of pretraining] [Batch 0/5000] [A loss: 1.029]\n",
      "TRAIN: [Epoch 1/100] [Batch 6/4000] Loss_D: -0.215 Loss_G: -0.183 Loss_D_real: 0.111 Loss_D_fake -0.104\n",
      "TEST: [Epoch 1/100] [Batch 6/4000] [A loss: 1.02] [real accuracy: 100.00] [fake accuracy: 73.44]\n",
      "It has been 0.41 seconds for this epoch\n",
      "TRAIN: [Epoch 2/100] [Batch 6/4000] Loss_D: -0.249 Loss_G: -0.213 Loss_D_real: 0.117 Loss_D_fake -0.132\n",
      "TEST: [Epoch 2/100] [Batch 6/4000] [A loss: 1.04] [real accuracy: 100.00] [fake accuracy: 68.55]\n",
      "It has been 0.4 seconds for this epoch\n",
      "TRAIN: [Epoch 3/100] [Batch 6/4000] Loss_D: -0.222 Loss_G: -0.168 Loss_D_real: 0.114 Loss_D_fake -0.109\n",
      "TEST: [Epoch 3/100] [Batch 6/4000] [A loss: 1.02] [real accuracy: 100.00] [fake accuracy: 64.84]\n",
      "It has been 0.4 seconds for this epoch\n",
      "TRAIN: [Epoch 4/100] [Batch 6/4000] Loss_D: -0.207 Loss_G: -0.144 Loss_D_real: 0.113 Loss_D_fake -0.095\n",
      "TEST: [Epoch 4/100] [Batch 6/4000] [A loss: 1.04] [real accuracy: 100.00] [fake accuracy: 63.87]\n",
      "It has been 0.39 seconds for this epoch\n",
      "TRAIN: [Epoch 5/100] [Batch 6/4000] Loss_D: -0.188 Loss_G: -0.111 Loss_D_real: 0.112 Loss_D_fake -0.076\n",
      "TEST: [Epoch 5/100] [Batch 6/4000] [A loss: 1.04] [real accuracy: 100.00] [fake accuracy: 57.42]\n",
      "It has been 0.41 seconds for this epoch\n",
      "TRAIN: [Epoch 6/100] [Batch 6/4000] Loss_D: -0.175 Loss_G: -0.106 Loss_D_real: 0.105 Loss_D_fake -0.070\n",
      "TEST: [Epoch 6/100] [Batch 6/4000] [A loss: 1.03] [real accuracy: 100.00] [fake accuracy: 57.62]\n",
      "It has been 0.41 seconds for this epoch\n",
      "TRAIN: [Epoch 7/100] [Batch 6/4000] Loss_D: -0.155 Loss_G: -0.071 Loss_D_real: 0.102 Loss_D_fake -0.053\n",
      "TEST: [Epoch 7/100] [Batch 6/4000] [A loss: 1.05] [real accuracy: 100.00] [fake accuracy: 53.12]\n",
      "It has been 0.44 seconds for this epoch\n",
      "TRAIN: [Epoch 8/100] [Batch 6/4000] Loss_D: -0.137 Loss_G: -0.055 Loss_D_real: 0.086 Loss_D_fake -0.051\n",
      "TEST: [Epoch 8/100] [Batch 6/4000] [A loss: 1.04] [real accuracy: 100.00] [fake accuracy: 54.88]\n",
      "It has been 0.42 seconds for this epoch\n",
      "TRAIN: [Epoch 9/100] [Batch 6/4000] Loss_D: -0.117 Loss_G: -0.044 Loss_D_real: 0.072 Loss_D_fake -0.045\n",
      "TEST: [Epoch 9/100] [Batch 6/4000] [A loss: 1.03] [real accuracy: 100.00] [fake accuracy: 61.52]\n"
     ]
    },
    {
     "name": "stdout",
     "output_type": "stream",
     "text": [
      "It has been 0.41 seconds for this epoch\n",
      "TRAIN: [Epoch 10/100] [Batch 6/4000] Loss_D: -0.110 Loss_G: -0.059 Loss_D_real: 0.057 Loss_D_fake -0.053\n",
      "TEST: [Epoch 10/100] [Batch 6/4000] [A loss: 1.05] [real accuracy: 100.00] [fake accuracy: 61.91]\n",
      "It has been 0.41 seconds for this epoch\n",
      "TRAIN: [Epoch 11/100] [Batch 6/4000] Loss_D: -0.085 Loss_G: -0.027 Loss_D_real: 0.054 Loss_D_fake -0.031\n",
      "TEST: [Epoch 11/100] [Batch 6/4000] [A loss: 1.04] [real accuracy: 99.80] [fake accuracy: 66.21]\n",
      "It has been 0.42 seconds for this epoch\n",
      "TRAIN: [Epoch 12/100] [Batch 6/4000] Loss_D: -0.076 Loss_G: -0.012 Loss_D_real: 0.053 Loss_D_fake -0.024\n",
      "TEST: [Epoch 12/100] [Batch 6/4000] [A loss: 1.04] [real accuracy: 99.61] [fake accuracy: 57.62]\n",
      "It has been 0.42 seconds for this epoch\n",
      "TRAIN: [Epoch 13/100] [Batch 6/4000] Loss_D: -0.062 Loss_G: -0.008 Loss_D_real: 0.044 Loss_D_fake -0.018\n",
      "TEST: [Epoch 13/100] [Batch 6/4000] [A loss: 1.05] [real accuracy: 89.45] [fake accuracy: 57.03]\n",
      "It has been 0.42 seconds for this epoch\n",
      "TRAIN: [Epoch 14/100] [Batch 6/4000] Loss_D: -0.057 Loss_G: -0.015 Loss_D_real: 0.046 Loss_D_fake -0.011\n",
      "TEST: [Epoch 14/100] [Batch 6/4000] [A loss: 1.01] [real accuracy: 93.95] [fake accuracy: 54.10]\n",
      "It has been 0.42 seconds for this epoch\n",
      "TRAIN: [Epoch 15/100] [Batch 6/4000] Loss_D: -0.051 Loss_G: 0.018 Loss_D_real: 0.056 Loss_D_fake 0.005\n",
      "TEST: [Epoch 15/100] [Batch 6/4000] [A loss: 1.02] [real accuracy: 93.16] [fake accuracy: 45.70]\n",
      "It has been 0.42 seconds for this epoch\n",
      "TRAIN: [Epoch 16/100] [Batch 6/4000] Loss_D: -0.040 Loss_G: 0.021 Loss_D_real: 0.058 Loss_D_fake 0.018\n",
      "TEST: [Epoch 16/100] [Batch 6/4000] [A loss: 1.03] [real accuracy: 92.58] [fake accuracy: 38.28]\n",
      "It has been 0.42 seconds for this epoch\n",
      "TRAIN: [Epoch 17/100] [Batch 6/4000] Loss_D: -0.051 Loss_G: 0.033 Loss_D_real: 0.077 Loss_D_fake 0.026\n",
      "TEST: [Epoch 17/100] [Batch 6/4000] [A loss: 1.04] [real accuracy: 92.77] [fake accuracy: 37.70]\n",
      "It has been 0.41 seconds for this epoch\n",
      "TRAIN: [Epoch 18/100] [Batch 6/4000] Loss_D: -0.039 Loss_G: 0.038 Loss_D_real: 0.068 Loss_D_fake 0.029\n",
      "TEST: [Epoch 18/100] [Batch 6/4000] [A loss: 1.04] [real accuracy: 93.55] [fake accuracy: 36.33]\n",
      "It has been 0.42 seconds for this epoch\n",
      "TRAIN: [Epoch 19/100] [Batch 6/4000] Loss_D: -0.037 Loss_G: 0.049 Loss_D_real: 0.081 Loss_D_fake 0.044\n",
      "TEST: [Epoch 19/100] [Batch 6/4000] [A loss: 1.05] [real accuracy: 88.09] [fake accuracy: 33.59]\n",
      "It has been 0.42 seconds for this epoch\n",
      "TRAIN: [Epoch 20/100] [Batch 6/4000] Loss_D: -0.029 Loss_G: 0.058 Loss_D_real: 0.079 Loss_D_fake 0.050\n",
      "TEST: [Epoch 20/100] [Batch 6/4000] [A loss: 1.04] [real accuracy: 93.36] [fake accuracy: 32.62]\n",
      "It has been 0.42 seconds for this epoch\n",
      "TRAIN: [Epoch 21/100] [Batch 6/4000] Loss_D: -0.026 Loss_G: 0.053 Loss_D_real: 0.074 Loss_D_fake 0.048\n",
      "TEST: [Epoch 21/100] [Batch 6/4000] [A loss: 1.05] [real accuracy: 90.43] [fake accuracy: 31.05]\n",
      "It has been 0.41 seconds for this epoch\n",
      "TRAIN: [Epoch 22/100] [Batch 6/4000] Loss_D: -0.026 Loss_G: 0.043 Loss_D_real: 0.068 Loss_D_fake 0.042\n",
      "TEST: [Epoch 22/100] [Batch 6/4000] [A loss: 1.03] [real accuracy: 95.31] [fake accuracy: 26.56]\n",
      "It has been 0.42 seconds for this epoch\n",
      "TRAIN: [Epoch 23/100] [Batch 6/4000] Loss_D: -0.021 Loss_G: 0.035 Loss_D_real: 0.057 Loss_D_fake 0.036\n",
      "TEST: [Epoch 23/100] [Batch 6/4000] [A loss: 1.03] [real accuracy: 91.21] [fake accuracy: 26.56]\n",
      "It has been 0.42 seconds for this epoch\n",
      "TRAIN: [Epoch 24/100] [Batch 6/4000] Loss_D: -0.020 Loss_G: 0.035 Loss_D_real: 0.052 Loss_D_fake 0.032\n",
      "TEST: [Epoch 24/100] [Batch 6/4000] [A loss: 1.05] [real accuracy: 89.84] [fake accuracy: 26.76]\n",
      "It has been 0.42 seconds for this epoch\n",
      "TRAIN: [Epoch 25/100] [Batch 6/4000] Loss_D: -0.016 Loss_G: 0.022 Loss_D_real: 0.042 Loss_D_fake 0.025\n",
      "TEST: [Epoch 25/100] [Batch 6/4000] [A loss: 1.03] [real accuracy: 97.46] [fake accuracy: 29.69]\n",
      "It has been 0.42 seconds for this epoch\n",
      "TRAIN: [Epoch 26/100] [Batch 6/4000] Loss_D: -0.012 Loss_G: 0.017 Loss_D_real: 0.035 Loss_D_fake 0.022\n",
      "TEST: [Epoch 26/100] [Batch 6/4000] [A loss: 1.02] [real accuracy: 94.34] [fake accuracy: 22.85]\n",
      "It has been 0.42 seconds for this epoch\n",
      "TRAIN: [Epoch 27/100] [Batch 6/4000] Loss_D: -0.013 Loss_G: 0.016 Loss_D_real: 0.029 Loss_D_fake 0.016\n",
      "TEST: [Epoch 27/100] [Batch 6/4000] [A loss: 1.04] [real accuracy: 90.23] [fake accuracy: 24.80]\n",
      "It has been 0.41 seconds for this epoch\n",
      "TRAIN: [Epoch 28/100] [Batch 6/4000] Loss_D: -0.013 Loss_G: 0.011 Loss_D_real: 0.026 Loss_D_fake 0.013\n",
      "TEST: [Epoch 28/100] [Batch 6/4000] [A loss: 1.03] [real accuracy: 84.96] [fake accuracy: 34.96]\n",
      "It has been 0.42 seconds for this epoch\n",
      "TRAIN: [Epoch 29/100] [Batch 6/4000] Loss_D: -0.019 Loss_G: -0.012 Loss_D_real: 0.005 Loss_D_fake -0.015\n",
      "TEST: [Epoch 29/100] [Batch 6/4000] [A loss: 1.02] [real accuracy: 49.80] [fake accuracy: 66.02]\n",
      "It has been 0.41 seconds for this epoch\n",
      "TRAIN: [Epoch 30/100] [Batch 6/4000] Loss_D: -0.022 Loss_G: -0.029 Loss_D_real: -0.009 Loss_D_fake -0.031\n",
      "TEST: [Epoch 30/100] [Batch 6/4000] [A loss: 1.03] [real accuracy: 52.73] [fake accuracy: 80.27]\n",
      "It has been 0.42 seconds for this epoch\n",
      "TRAIN: [Epoch 31/100] [Batch 6/4000] Loss_D: -0.021 Loss_G: -0.020 Loss_D_real: 0.003 Loss_D_fake -0.018\n",
      "TEST: [Epoch 31/100] [Batch 6/4000] [A loss: 1.08] [real accuracy: 56.84] [fake accuracy: 71.88]\n",
      "It has been 0.42 seconds for this epoch\n",
      "TRAIN: [Epoch 32/100] [Batch 6/4000] Loss_D: -0.019 Loss_G: -0.010 Loss_D_real: 0.016 Loss_D_fake -0.003\n",
      "TEST: [Epoch 32/100] [Batch 6/4000] [A loss: 1.04] [real accuracy: 86.91] [fake accuracy: 52.54]\n",
      "It has been 0.41 seconds for this epoch\n",
      "TRAIN: [Epoch 33/100] [Batch 6/4000] Loss_D: -0.018 Loss_G: 0.000 Loss_D_real: 0.017 Loss_D_fake -0.000\n",
      "TEST: [Epoch 33/100] [Batch 6/4000] [A loss: 1.03] [real accuracy: 91.99] [fake accuracy: 47.46]\n",
      "It has been 0.41 seconds for this epoch\n",
      "TRAIN: [Epoch 34/100] [Batch 6/4000] Loss_D: -0.019 Loss_G: -0.001 Loss_D_real: 0.017 Loss_D_fake -0.002\n",
      "TEST: [Epoch 34/100] [Batch 6/4000] [A loss: 1.01] [real accuracy: 90.82] [fake accuracy: 47.07]\n",
      "It has been 0.41 seconds for this epoch\n",
      "TRAIN: [Epoch 35/100] [Batch 6/4000] Loss_D: -0.024 Loss_G: -0.026 Loss_D_real: 0.008 Loss_D_fake -0.016\n",
      "TEST: [Epoch 35/100] [Batch 6/4000] [A loss: 1.04] [real accuracy: 61.33] [fake accuracy: 67.19]\n",
      "It has been 0.41 seconds for this epoch\n",
      "TRAIN: [Epoch 36/100] [Batch 6/4000] Loss_D: -0.026 Loss_G: -0.012 Loss_D_real: 0.010 Loss_D_fake -0.016\n",
      "TEST: [Epoch 36/100] [Batch 6/4000] [A loss: 1.05] [real accuracy: 71.48] [fake accuracy: 67.58]\n",
      "It has been 0.42 seconds for this epoch\n",
      "TRAIN: [Epoch 37/100] [Batch 6/4000] Loss_D: -0.019 Loss_G: -0.015 Loss_D_real: 0.021 Loss_D_fake 0.002\n",
      "TEST: [Epoch 37/100] [Batch 6/4000] [A loss: 1.02] [real accuracy: 97.07] [fake accuracy: 38.67]\n",
      "It has been 0.42 seconds for this epoch\n",
      "TRAIN: [Epoch 38/100] [Batch 6/4000] Loss_D: -0.017 Loss_G: -0.002 Loss_D_real: 0.028 Loss_D_fake 0.010\n",
      "TEST: [Epoch 38/100] [Batch 6/4000] [A loss: 1.03] [real accuracy: 81.25] [fake accuracy: 38.09]\n",
      "It has been 0.41 seconds for this epoch\n",
      "TRAIN: [Epoch 39/100] [Batch 6/4000] Loss_D: -0.009 Loss_G: 0.020 Loss_D_real: 0.018 Loss_D_fake 0.009\n",
      "TEST: [Epoch 39/100] [Batch 6/4000] [A loss: 1.05] [real accuracy: 78.32] [fake accuracy: 37.50]\n",
      "It has been 0.41 seconds for this epoch\n",
      "TRAIN: [Epoch 40/100] [Batch 6/4000] Loss_D: -0.007 Loss_G: 0.018 Loss_D_real: 0.026 Loss_D_fake 0.019\n",
      "TEST: [Epoch 40/100] [Batch 6/4000] [A loss: 1.04] [real accuracy: 93.36] [fake accuracy: 22.85]\n",
      "It has been 0.41 seconds for this epoch\n",
      "TRAIN: [Epoch 41/100] [Batch 6/4000] Loss_D: -0.009 Loss_G: 0.015 Loss_D_real: 0.018 Loss_D_fake 0.009\n",
      "TEST: [Epoch 41/100] [Batch 6/4000] [A loss: 1.04] [real accuracy: 85.94] [fake accuracy: 32.81]\n",
      "It has been 0.42 seconds for this epoch\n",
      "TRAIN: [Epoch 42/100] [Batch 6/4000] Loss_D: -0.020 Loss_G: -0.008 Loss_D_real: 0.023 Loss_D_fake 0.003\n",
      "TEST: [Epoch 42/100] [Batch 6/4000] [A loss: 1.04] [real accuracy: 91.41] [fake accuracy: 42.38]\n",
      "It has been 0.41 seconds for this epoch\n",
      "TRAIN: [Epoch 43/100] [Batch 6/4000] Loss_D: -0.020 Loss_G: -0.002 Loss_D_real: 0.008 Loss_D_fake -0.012\n",
      "TEST: [Epoch 43/100] [Batch 6/4000] [A loss: 1.02] [real accuracy: 87.11] [fake accuracy: 53.71]\n",
      "It has been 0.42 seconds for this epoch\n"
     ]
    },
    {
     "name": "stdout",
     "output_type": "stream",
     "text": [
      "TRAIN: [Epoch 44/100] [Batch 6/4000] Loss_D: -0.018 Loss_G: 0.008 Loss_D_real: 0.013 Loss_D_fake -0.005\n",
      "TEST: [Epoch 44/100] [Batch 6/4000] [A loss: 1.01] [real accuracy: 84.38] [fake accuracy: 56.84]\n",
      "It has been 0.41 seconds for this epoch\n",
      "TRAIN: [Epoch 45/100] [Batch 6/4000] Loss_D: -0.017 Loss_G: 0.005 Loss_D_real: 0.013 Loss_D_fake -0.004\n",
      "TEST: [Epoch 45/100] [Batch 6/4000] [A loss: 1.03] [real accuracy: 89.26] [fake accuracy: 46.09]\n",
      "It has been 0.41 seconds for this epoch\n",
      "TRAIN: [Epoch 46/100] [Batch 6/4000] Loss_D: -0.011 Loss_G: 0.013 Loss_D_real: 0.009 Loss_D_fake -0.002\n",
      "TEST: [Epoch 46/100] [Batch 6/4000] [A loss: 1.04] [real accuracy: 94.34] [fake accuracy: 39.65]\n",
      "It has been 0.41 seconds for this epoch\n",
      "TRAIN: [Epoch 47/100] [Batch 6/4000] Loss_D: -0.011 Loss_G: 0.014 Loss_D_real: 0.014 Loss_D_fake 0.003\n",
      "TEST: [Epoch 47/100] [Batch 6/4000] [A loss: 1.02] [real accuracy: 96.48] [fake accuracy: 29.30]\n",
      "It has been 0.42 seconds for this epoch\n",
      "TRAIN: [Epoch 48/100] [Batch 6/4000] Loss_D: -0.014 Loss_G: -0.002 Loss_D_real: 0.012 Loss_D_fake -0.002\n",
      "TEST: [Epoch 48/100] [Batch 6/4000] [A loss: 1.04] [real accuracy: 77.73] [fake accuracy: 45.90]\n",
      "It has been 0.41 seconds for this epoch\n",
      "TRAIN: [Epoch 49/100] [Batch 6/4000] Loss_D: -0.015 Loss_G: -0.005 Loss_D_real: 0.009 Loss_D_fake -0.006\n",
      "TEST: [Epoch 49/100] [Batch 6/4000] [A loss: 1.02] [real accuracy: 68.95] [fake accuracy: 68.75]\n",
      "It has been 0.42 seconds for this epoch\n",
      "TRAIN: [Epoch 50/100] [Batch 6/4000] Loss_D: -0.014 Loss_G: -0.004 Loss_D_real: 0.003 Loss_D_fake -0.011\n",
      "TEST: [Epoch 50/100] [Batch 6/4000] [A loss: 1.06] [real accuracy: 59.38] [fake accuracy: 75.20]\n",
      "It has been 0.41 seconds for this epoch\n",
      "TRAIN: [Epoch 51/100] [Batch 6/4000] Loss_D: -0.013 Loss_G: -0.001 Loss_D_real: 0.016 Loss_D_fake 0.003\n",
      "TEST: [Epoch 51/100] [Batch 6/4000] [A loss: 1.05] [real accuracy: 75.98] [fake accuracy: 49.61]\n",
      "It has been 0.41 seconds for this epoch\n",
      "TRAIN: [Epoch 52/100] [Batch 6/4000] Loss_D: -0.010 Loss_G: -0.003 Loss_D_real: 0.021 Loss_D_fake 0.011\n",
      "TEST: [Epoch 52/100] [Batch 6/4000] [A loss: 1.02] [real accuracy: 83.01] [fake accuracy: 38.09]\n",
      "It has been 0.42 seconds for this epoch\n",
      "TRAIN: [Epoch 53/100] [Batch 6/4000] Loss_D: -0.007 Loss_G: 0.010 Loss_D_real: 0.012 Loss_D_fake 0.004\n",
      "TEST: [Epoch 53/100] [Batch 6/4000] [A loss: 1.04] [real accuracy: 59.77] [fake accuracy: 50.00]\n",
      "It has been 0.41 seconds for this epoch\n",
      "TRAIN: [Epoch 54/100] [Batch 6/4000] Loss_D: -0.006 Loss_G: 0.020 Loss_D_real: 0.019 Loss_D_fake 0.013\n",
      "TEST: [Epoch 54/100] [Batch 6/4000] [A loss: 1.03] [real accuracy: 80.86] [fake accuracy: 28.71]\n",
      "It has been 0.41 seconds for this epoch\n",
      "TRAIN: [Epoch 55/100] [Batch 6/4000] Loss_D: -0.006 Loss_G: 0.019 Loss_D_real: 0.024 Loss_D_fake 0.018\n",
      "TEST: [Epoch 55/100] [Batch 6/4000] [A loss: 1.04] [real accuracy: 88.09] [fake accuracy: 23.44]\n",
      "It has been 0.42 seconds for this epoch\n",
      "TRAIN: [Epoch 56/100] [Batch 6/4000] Loss_D: -0.011 Loss_G: 0.011 Loss_D_real: 0.022 Loss_D_fake 0.011\n",
      "TEST: [Epoch 56/100] [Batch 6/4000] [A loss: 1.02] [real accuracy: 95.90] [fake accuracy: 23.83]\n",
      "It has been 0.42 seconds for this epoch\n",
      "TRAIN: [Epoch 57/100] [Batch 6/4000] Loss_D: -0.013 Loss_G: 0.011 Loss_D_real: 0.025 Loss_D_fake 0.012\n",
      "TEST: [Epoch 57/100] [Batch 6/4000] [A loss: 1.04] [real accuracy: 91.60] [fake accuracy: 33.20]\n",
      "It has been 0.42 seconds for this epoch\n",
      "TRAIN: [Epoch 58/100] [Batch 6/4000] Loss_D: -0.013 Loss_G: 0.011 Loss_D_real: 0.017 Loss_D_fake 0.004\n",
      "TEST: [Epoch 58/100] [Batch 6/4000] [A loss: 1.03] [real accuracy: 78.91] [fake accuracy: 43.36]\n",
      "It has been 0.41 seconds for this epoch\n",
      "TRAIN: [Epoch 59/100] [Batch 6/4000] Loss_D: -0.012 Loss_G: 0.009 Loss_D_real: 0.013 Loss_D_fake 0.001\n",
      "TEST: [Epoch 59/100] [Batch 6/4000] [A loss: 1.03] [real accuracy: 60.94] [fake accuracy: 60.35]\n",
      "It has been 0.42 seconds for this epoch\n",
      "TRAIN: [Epoch 60/100] [Batch 6/4000] Loss_D: -0.010 Loss_G: -0.005 Loss_D_real: 0.012 Loss_D_fake 0.001\n",
      "TEST: [Epoch 60/100] [Batch 6/4000] [A loss: 1.02] [real accuracy: 70.12] [fake accuracy: 49.22]\n",
      "It has been 0.42 seconds for this epoch\n",
      "TRAIN: [Epoch 61/100] [Batch 6/4000] Loss_D: -0.012 Loss_G: 0.008 Loss_D_real: 0.017 Loss_D_fake 0.005\n",
      "TEST: [Epoch 61/100] [Batch 6/4000] [A loss: 1.04] [real accuracy: 65.62] [fake accuracy: 50.00]\n",
      "It has been 0.42 seconds for this epoch\n",
      "TRAIN: [Epoch 62/100] [Batch 6/4000] Loss_D: -0.014 Loss_G: -0.003 Loss_D_real: 0.015 Loss_D_fake 0.000\n",
      "TEST: [Epoch 62/100] [Batch 6/4000] [A loss: 1.04] [real accuracy: 54.49] [fake accuracy: 54.69]\n",
      "It has been 0.42 seconds for this epoch\n",
      "TRAIN: [Epoch 63/100] [Batch 6/4000] Loss_D: -0.008 Loss_G: 0.009 Loss_D_real: 0.018 Loss_D_fake 0.010\n",
      "TEST: [Epoch 63/100] [Batch 6/4000] [A loss: 1.01] [real accuracy: 66.02] [fake accuracy: 44.34]\n",
      "It has been 0.42 seconds for this epoch\n",
      "TRAIN: [Epoch 64/100] [Batch 6/4000] Loss_D: -0.012 Loss_G: 0.003 Loss_D_real: 0.013 Loss_D_fake 0.002\n",
      "TEST: [Epoch 64/100] [Batch 6/4000] [A loss: 1.02] [real accuracy: 71.29] [fake accuracy: 42.58]\n",
      "It has been 0.42 seconds for this epoch\n",
      "TRAIN: [Epoch 65/100] [Batch 6/4000] Loss_D: -0.023 Loss_G: -0.001 Loss_D_real: 0.026 Loss_D_fake 0.003\n",
      "TEST: [Epoch 65/100] [Batch 6/4000] [A loss: 1.04] [real accuracy: 83.01] [fake accuracy: 38.87]\n",
      "It has been 0.42 seconds for this epoch\n",
      "TRAIN: [Epoch 66/100] [Batch 6/4000] Loss_D: -0.016 Loss_G: -0.003 Loss_D_real: 0.019 Loss_D_fake 0.003\n",
      "TEST: [Epoch 66/100] [Batch 6/4000] [A loss: 1.03] [real accuracy: 74.41] [fake accuracy: 39.84]\n",
      "It has been 0.42 seconds for this epoch\n",
      "TRAIN: [Epoch 67/100] [Batch 6/4000] Loss_D: -0.004 Loss_G: 0.039 Loss_D_real: 0.037 Loss_D_fake 0.033\n",
      "TEST: [Epoch 67/100] [Batch 6/4000] [A loss: 1.04] [real accuracy: 89.65] [fake accuracy: 14.65]\n",
      "It has been 0.42 seconds for this epoch\n",
      "TRAIN: [Epoch 68/100] [Batch 6/4000] Loss_D: -0.000 Loss_G: 0.041 Loss_D_real: 0.040 Loss_D_fake 0.040\n",
      "TEST: [Epoch 68/100] [Batch 6/4000] [A loss: 1.04] [real accuracy: 100.00] [fake accuracy: 0.00]\n",
      "It has been 0.41 seconds for this epoch\n",
      "TRAIN: [Epoch 69/100] [Batch 6/4000] Loss_D: -0.004 Loss_G: 0.050 Loss_D_real: 0.055 Loss_D_fake 0.051\n",
      "TEST: [Epoch 69/100] [Batch 6/4000] [A loss: 1.03] [real accuracy: 100.00] [fake accuracy: 0.00]\n",
      "It has been 0.42 seconds for this epoch\n",
      "TRAIN: [Epoch 70/100] [Batch 6/4000] Loss_D: -0.013 Loss_G: 0.049 Loss_D_real: 0.038 Loss_D_fake 0.025\n",
      "TEST: [Epoch 70/100] [Batch 6/4000] [A loss: 1.02] [real accuracy: 81.45] [fake accuracy: 42.38]\n",
      "It has been 0.42 seconds for this epoch\n",
      "TRAIN: [Epoch 71/100] [Batch 6/4000] Loss_D: -0.020 Loss_G: -0.004 Loss_D_real: 0.018 Loss_D_fake -0.002\n",
      "TEST: [Epoch 71/100] [Batch 6/4000] [A loss: 1.05] [real accuracy: 89.45] [fake accuracy: 39.06]\n",
      "It has been 0.42 seconds for this epoch\n",
      "TRAIN: [Epoch 72/100] [Batch 6/4000] Loss_D: -0.009 Loss_G: 0.010 Loss_D_real: 0.013 Loss_D_fake 0.004\n",
      "TEST: [Epoch 72/100] [Batch 6/4000] [A loss: 1.04] [real accuracy: 75.20] [fake accuracy: 41.02]\n",
      "It has been 0.43 seconds for this epoch\n",
      "TRAIN: [Epoch 73/100] [Batch 6/4000] Loss_D: -0.009 Loss_G: 0.015 Loss_D_real: 0.034 Loss_D_fake 0.025\n",
      "TEST: [Epoch 73/100] [Batch 6/4000] [A loss: 1.03] [real accuracy: 91.80] [fake accuracy: 23.83]\n",
      "It has been 0.42 seconds for this epoch\n",
      "TRAIN: [Epoch 74/100] [Batch 6/4000] Loss_D: -0.018 Loss_G: 0.008 Loss_D_real: 0.019 Loss_D_fake 0.001\n",
      "TEST: [Epoch 74/100] [Batch 6/4000] [A loss: 1.03] [real accuracy: 85.94] [fake accuracy: 39.84]\n",
      "It has been 0.42 seconds for this epoch\n",
      "TRAIN: [Epoch 75/100] [Batch 6/4000] Loss_D: -0.027 Loss_G: -0.006 Loss_D_real: 0.025 Loss_D_fake -0.002\n",
      "TEST: [Epoch 75/100] [Batch 6/4000] [A loss: 1.04] [real accuracy: 99.80] [fake accuracy: 34.57]\n",
      "It has been 0.43 seconds for this epoch\n",
      "TRAIN: [Epoch 76/100] [Batch 6/4000] Loss_D: -0.024 Loss_G: -0.003 Loss_D_real: 0.026 Loss_D_fake 0.002\n",
      "TEST: [Epoch 76/100] [Batch 6/4000] [A loss: 1.04] [real accuracy: 100.00] [fake accuracy: 34.57]\n",
      "It has been 0.42 seconds for this epoch\n",
      "TRAIN: [Epoch 77/100] [Batch 6/4000] Loss_D: -0.013 Loss_G: 0.017 Loss_D_real: 0.029 Loss_D_fake 0.016\n",
      "TEST: [Epoch 77/100] [Batch 6/4000] [A loss: 1.04] [real accuracy: 100.00] [fake accuracy: 23.83]\n",
      "It has been 0.41 seconds for this epoch\n",
      "TRAIN: [Epoch 78/100] [Batch 6/4000] Loss_D: -0.005 Loss_G: 0.021 Loss_D_real: 0.029 Loss_D_fake 0.023\n"
     ]
    },
    {
     "name": "stdout",
     "output_type": "stream",
     "text": [
      "TEST: [Epoch 78/100] [Batch 6/4000] [A loss: 1.04] [real accuracy: 84.18] [fake accuracy: 33.79]\n",
      "It has been 0.42 seconds for this epoch\n",
      "TRAIN: [Epoch 79/100] [Batch 6/4000] Loss_D: -0.002 Loss_G: 0.013 Loss_D_real: 0.011 Loss_D_fake 0.009\n",
      "TEST: [Epoch 79/100] [Batch 6/4000] [A loss: 1.04] [real accuracy: 100.00] [fake accuracy: 3.91]\n",
      "It has been 0.43 seconds for this epoch\n",
      "TRAIN: [Epoch 80/100] [Batch 6/4000] Loss_D: -0.007 Loss_G: 0.009 Loss_D_real: 0.013 Loss_D_fake 0.006\n",
      "TEST: [Epoch 80/100] [Batch 6/4000] [A loss: 1.02] [real accuracy: 100.00] [fake accuracy: 17.19]\n",
      "It has been 0.43 seconds for this epoch\n",
      "TRAIN: [Epoch 81/100] [Batch 6/4000] Loss_D: -0.009 Loss_G: 0.007 Loss_D_real: 0.015 Loss_D_fake 0.005\n",
      "TEST: [Epoch 81/100] [Batch 6/4000] [A loss: 1.04] [real accuracy: 100.00] [fake accuracy: 13.67]\n",
      "It has been 0.44 seconds for this epoch\n",
      "TRAIN: [Epoch 82/100] [Batch 6/4000] Loss_D: -0.009 Loss_G: 0.009 Loss_D_real: 0.015 Loss_D_fake 0.006\n",
      "TEST: [Epoch 82/100] [Batch 6/4000] [A loss: 1.02] [real accuracy: 100.00] [fake accuracy: 11.52]\n",
      "It has been 0.43 seconds for this epoch\n",
      "TRAIN: [Epoch 83/100] [Batch 6/4000] Loss_D: -0.008 Loss_G: 0.009 Loss_D_real: 0.015 Loss_D_fake 0.007\n",
      "TEST: [Epoch 83/100] [Batch 6/4000] [A loss: 1.02] [real accuracy: 100.00] [fake accuracy: 18.95]\n",
      "It has been 0.44 seconds for this epoch\n",
      "TRAIN: [Epoch 84/100] [Batch 6/4000] Loss_D: -0.008 Loss_G: 0.008 Loss_D_real: 0.014 Loss_D_fake 0.007\n",
      "TEST: [Epoch 84/100] [Batch 6/4000] [A loss: 1.04] [real accuracy: 100.00] [fake accuracy: 16.41]\n",
      "It has been 0.43 seconds for this epoch\n",
      "TRAIN: [Epoch 85/100] [Batch 6/4000] Loss_D: -0.007 Loss_G: 0.010 Loss_D_real: 0.015 Loss_D_fake 0.007\n",
      "TEST: [Epoch 85/100] [Batch 6/4000] [A loss: 1.04] [real accuracy: 100.00] [fake accuracy: 15.23]\n",
      "It has been 0.43 seconds for this epoch\n",
      "TRAIN: [Epoch 86/100] [Batch 6/4000] Loss_D: -0.008 Loss_G: 0.008 Loss_D_real: 0.014 Loss_D_fake 0.006\n",
      "TEST: [Epoch 86/100] [Batch 6/4000] [A loss: 1.03] [real accuracy: 100.00] [fake accuracy: 20.31]\n",
      "It has been 0.43 seconds for this epoch\n",
      "TRAIN: [Epoch 87/100] [Batch 6/4000] Loss_D: -0.008 Loss_G: 0.008 Loss_D_real: 0.015 Loss_D_fake 0.007\n",
      "TEST: [Epoch 87/100] [Batch 6/4000] [A loss: 1.04] [real accuracy: 100.00] [fake accuracy: 13.09]\n",
      "It has been 0.42 seconds for this epoch\n",
      "TRAIN: [Epoch 88/100] [Batch 6/4000] Loss_D: -0.007 Loss_G: 0.008 Loss_D_real: 0.013 Loss_D_fake 0.006\n",
      "TEST: [Epoch 88/100] [Batch 6/4000] [A loss: 1.06] [real accuracy: 100.00] [fake accuracy: 20.12]\n",
      "It has been 0.44 seconds for this epoch\n",
      "TRAIN: [Epoch 89/100] [Batch 6/4000] Loss_D: -0.008 Loss_G: 0.008 Loss_D_real: 0.015 Loss_D_fake 0.007\n",
      "TEST: [Epoch 89/100] [Batch 6/4000] [A loss: 1.03] [real accuracy: 100.00] [fake accuracy: 16.80]\n",
      "It has been 0.44 seconds for this epoch\n",
      "TRAIN: [Epoch 90/100] [Batch 6/4000] Loss_D: -0.007 Loss_G: 0.008 Loss_D_real: 0.015 Loss_D_fake 0.007\n",
      "TEST: [Epoch 90/100] [Batch 6/4000] [A loss: 1.06] [real accuracy: 100.00] [fake accuracy: 16.02]\n",
      "It has been 0.44 seconds for this epoch\n",
      "TRAIN: [Epoch 91/100] [Batch 6/4000] Loss_D: -0.008 Loss_G: 0.006 Loss_D_real: 0.014 Loss_D_fake 0.006\n",
      "TEST: [Epoch 91/100] [Batch 6/4000] [A loss: 1.04] [real accuracy: 100.00] [fake accuracy: 14.26]\n",
      "It has been 0.44 seconds for this epoch\n",
      "TRAIN: [Epoch 92/100] [Batch 6/4000] Loss_D: -0.008 Loss_G: 0.008 Loss_D_real: 0.015 Loss_D_fake 0.007\n",
      "TEST: [Epoch 92/100] [Batch 6/4000] [A loss: 1.02] [real accuracy: 100.00] [fake accuracy: 14.84]\n",
      "It has been 0.44 seconds for this epoch\n",
      "TRAIN: [Epoch 93/100] [Batch 6/4000] Loss_D: -0.006 Loss_G: 0.008 Loss_D_real: 0.013 Loss_D_fake 0.007\n",
      "TEST: [Epoch 93/100] [Batch 6/4000] [A loss: 1.02] [real accuracy: 100.00] [fake accuracy: 21.09]\n",
      "It has been 0.44 seconds for this epoch\n",
      "TRAIN: [Epoch 94/100] [Batch 6/4000] Loss_D: -0.006 Loss_G: 0.008 Loss_D_real: 0.013 Loss_D_fake 0.007\n",
      "TEST: [Epoch 94/100] [Batch 6/4000] [A loss: 1.02] [real accuracy: 100.00] [fake accuracy: 15.04]\n",
      "It has been 0.44 seconds for this epoch\n",
      "TRAIN: [Epoch 95/100] [Batch 6/4000] Loss_D: -0.007 Loss_G: 0.008 Loss_D_real: 0.014 Loss_D_fake 0.007\n",
      "TEST: [Epoch 95/100] [Batch 6/4000] [A loss: 1.03] [real accuracy: 100.00] [fake accuracy: 15.43]\n",
      "It has been 0.45 seconds for this epoch\n",
      "TRAIN: [Epoch 96/100] [Batch 6/4000] Loss_D: -0.007 Loss_G: 0.007 Loss_D_real: 0.013 Loss_D_fake 0.006\n",
      "TEST: [Epoch 96/100] [Batch 6/4000] [A loss: 1.03] [real accuracy: 100.00] [fake accuracy: 14.65]\n",
      "It has been 0.43 seconds for this epoch\n",
      "TRAIN: [Epoch 97/100] [Batch 6/4000] Loss_D: -0.007 Loss_G: 0.008 Loss_D_real: 0.014 Loss_D_fake 0.007\n",
      "TEST: [Epoch 97/100] [Batch 6/4000] [A loss: 1.04] [real accuracy: 100.00] [fake accuracy: 16.60]\n",
      "It has been 0.45 seconds for this epoch\n",
      "TRAIN: [Epoch 98/100] [Batch 6/4000] Loss_D: -0.007 Loss_G: 0.008 Loss_D_real: 0.014 Loss_D_fake 0.007\n",
      "TEST: [Epoch 98/100] [Batch 6/4000] [A loss: 1.03] [real accuracy: 100.00] [fake accuracy: 15.43]\n",
      "It has been 0.45 seconds for this epoch\n",
      "TRAIN: [Epoch 99/100] [Batch 6/4000] Loss_D: -0.006 Loss_G: 0.008 Loss_D_real: 0.012 Loss_D_fake 0.006\n",
      "TEST: [Epoch 99/100] [Batch 6/4000] [A loss: 1.05] [real accuracy: 100.00] [fake accuracy: 16.02]\n",
      "It has been 0.45 seconds for this epoch\n",
      "TRAIN: [Epoch 100/100] [Batch 6/4000] Loss_D: -0.006 Loss_G: 0.007 Loss_D_real: 0.013 Loss_D_fake 0.007\n",
      "TEST: [Epoch 100/100] [Batch 6/4000] [A loss: 1.03] [real accuracy: 100.00] [fake accuracy: 10.94]\n",
      "It has been 0.44 seconds for this epoch\n"
     ]
    }
   ],
   "source": [
    "model = cor.train(x=d['x'], n_cpu=1, debug=True)"
   ]
  },
  {
   "cell_type": "markdown",
   "metadata": {},
   "source": [
    "### Generate synthetic samples"
   ]
  },
  {
   "cell_type": "code",
   "execution_count": 17,
   "metadata": {},
   "outputs": [
    {
     "name": "stdout",
     "output_type": "stream",
     "text": [
      "[[1.07840006e-03 5.35098196e-04 1.08331613e-01 ... 9.14475939e-04\n",
      "  7.43671834e-01 3.35581368e-04]\n",
      " [4.90676053e-03 3.28933634e-03 1.21717349e-01 ... 1.02419173e-03\n",
      "  1.43618852e-01 9.19473998e-04]\n",
      " [3.61698749e-03 1.70215522e-03 1.42049219e-03 ... 1.23420113e-03\n",
      "  8.84088650e-02 1.31964072e-04]\n",
      " ...\n",
      " [7.68776797e-03 1.81375491e-03 3.32754590e-02 ... 1.00610852e-02\n",
      "  4.17064935e-01 4.65348642e-03]\n",
      " [2.61984416e-03 9.55473806e-04 3.64197381e-02 ... 1.72784354e-03\n",
      "  2.28183288e-02 4.06074774e-04]\n",
      " [9.04165034e-04 5.04107855e-04 5.86730803e-11 ... 1.03617704e-03\n",
      "  1.87731802e-01 1.73939086e-04]]\n"
     ]
    }
   ],
   "source": [
    "s = cor.generate(model, n_gen)\n",
    "print(s)"
   ]
  },
  {
   "cell_type": "markdown",
   "metadata": {},
   "source": [
    "### Use metadata to restore original formatting"
   ]
  },
  {
   "cell_type": "code",
   "execution_count": 18,
   "metadata": {},
   "outputs": [
    {
     "name": "stdout",
     "output_type": "stream",
     "text": [
      "Synthetic samples:\n",
      "[['helloworld' '1' 'A' 'Z' '5.0' '0.7435800903811678']\n",
      " ['helloworld' '1' 'A' 'Z' '8.0' '0.1437124038935224']\n",
      " ['helloworld' '1' 'A' 'Y' '5.0' '0.0885194658461908']\n",
      " ...\n",
      " ['helloworld' '1' 'A' 'Y' '18.0' '0.4170740469394797']\n",
      " ['helloworld' '1' 'A' 'X' '13.0' '0.022949183951316603']\n",
      " ['helloworld' '1' 'A' 'X' '16.0' '0.18781173239839768']]\n",
      "\n",
      "Real samples:\n",
      "[['helloworld' '1' 'A' 'Z' '19' '0.885943744109407']\n",
      " ['helloworld' '1' 'A' 'Z' '11' '0.2219293367937306']\n",
      " ['helloworld' '0' 'A' 'X' '8' '0.21600626626574904']\n",
      " ...\n",
      " ['helloworld' '1' 'A' 'Y' '13' '0.2954809236981648']\n",
      " ['helloworld' '0' 'A' 'Z' '15' '0.5313304553590602']\n",
      " ['helloworld' '1' 'B' 'X' '18' '0.8013218184713552']]\n"
     ]
    }
   ],
   "source": [
    "f = pre.restore_matrix(x=s, m=m, header=d['header'])\n",
    "print('Synthetic samples:')\n",
    "print(f['x'])\n",
    "print('\\nReal samples:')\n",
    "print(x)"
   ]
  },
  {
   "cell_type": "markdown",
   "metadata": {},
   "source": [
    "## Realism"
   ]
  },
  {
   "cell_type": "markdown",
   "metadata": {},
   "source": [
    "### Compare univariate frequency for real and synthetic features"
   ]
  },
  {
   "cell_type": "code",
   "execution_count": 19,
   "metadata": {},
   "outputs": [
    {
     "name": "stdout",
     "output_type": "stream",
     "text": [
      "Correlation between feature frequencies = 0.97\n"
     ]
    }
   ],
   "source": [
    "res_uni = rea.validate_univariate(r=d['x'], s=s, header=d['header'])\n",
    "corr_uni = np.corrcoef(x=res_uni['frq_r'], y=res_uni['frq_s'])[0,1]\n",
    "print('Correlation between feature frequencies =',np.round(corr_uni,2))"
   ]
  },
  {
   "cell_type": "markdown",
   "metadata": {},
   "source": [
    "Plot the synthetic and real feature frequencies for each feature..."
   ]
  },
  {
   "cell_type": "code",
   "execution_count": 20,
   "metadata": {},
   "outputs": [
    {
     "data": {
      "text/plain": [
       "<matplotlib.legend.Legend at 0x7f8e19b92390>"
      ]
     },
     "execution_count": 20,
     "metadata": {},
     "output_type": "execute_result"
    },
    {
     "data": {
      "image/png": "[encoded data removed]",
      "text/plain": [
       "<Figure size 432x288 with 1 Axes>"
      ]
     },
     "metadata": {
      "needs_background": "light"
     },
     "output_type": "display_data"
    }
   ],
   "source": [
    "fontsize = 14\n",
    "fig, ax1 = plt.subplots(1,1)\n",
    "ax1.plot([0,1],[0,1], color=\"gray\", linestyle='--')\n",
    "ax1.scatter(res_uni['frq_r'], res_uni['frq_s'], label='Frequency')\n",
    "ax1.set_xlabel('Real feature frequency', fontsize=fontsize)\n",
    "ax1.set_ylabel('Synthetic feature frequency', fontsize=fontsize)\n",
    "ax1.set_xlim([0, 1])\n",
    "ax1.set_ylim([0, 1])\n",
    "ax1.tick_params(axis='x', labelsize=fontsize)\n",
    "ax1.tick_params(axis='y', labelsize=fontsize)\n",
    "ax1.legend(fontsize=fontsize)"
   ]
  },
  {
   "cell_type": "markdown",
   "metadata": {},
   "source": [
    "### Compare predictive performance\n",
    "* Real: use real dataset to train predictive model and test on a separate real dataset\n",
    "* GAN-train: use synthetic dataset to train predictive model and test on a real dataset\n",
    "*GAN-test: use real dataset to train predictive model and test on the synthetic dataset"
   ]
  },
  {
   "cell_type": "code",
   "execution_count": 21,
   "metadata": {},
   "outputs": [
    {
     "name": "stdout",
     "output_type": "stream",
     "text": [
      "Extract outcome 'binary01' from real and synthetic datasets\n",
      "\n",
      "Header:\n",
      "['constant__constant' 'constant__-99999' 'binary01__binary01'\n",
      " 'binary01__-99999' 'binaryAB__binaryAB' 'binaryAB__-99999'\n",
      " 'categorical__0' 'categorical__1' 'categorical__2' 'categorical__3'\n",
      " 'count__count' 'count__-99999' 'continuous__continuous'\n",
      " 'continuous__-99999']\n"
     ]
    }
   ],
   "source": [
    "print('Extract outcome \\'', outcome,'\\' from real and synthetic datasets', sep='')\n",
    "print('\\nHeader:')\n",
    "print(d['header'])"
   ]
  },
  {
   "cell_type": "code",
   "execution_count": 22,
   "metadata": {},
   "outputs": [
    {
     "name": "stdout",
     "output_type": "stream",
     "text": [
      "Real dataset dimensions: (5000, 13)\n",
      "Synthetic dataset dimensions: (5000, 13)\n"
     ]
    }
   ],
   "source": [
    "r = d['x']\n",
    "\n",
    "idx_outcome = np.where(d['header'] == outcome+'__'+outcome)\n",
    "y_r = np.reshape(np.round(np.reshape(r[:,idx_outcome], newshape=(len(r),1))).astype(int), len(r))\n",
    "y_s = np.reshape(np.round(np.reshape(s[:,idx_outcome], newshape=(len(s),1))).astype(int), len(s))\n",
    "x_r = np.delete(r, idx_outcome, axis=1)\n",
    "x_s = np.delete(s, idx_outcome, axis=1)\n",
    "\n",
    "print('Real dataset dimensions:',x_r.shape)\n",
    "print('Synthetic dataset dimensions:',x_s.shape)"
   ]
  },
  {
   "cell_type": "markdown",
   "metadata": {},
   "source": [
    "Train model for each validation test"
   ]
  },
  {
   "cell_type": "code",
   "execution_count": 23,
   "metadata": {},
   "outputs": [],
   "source": [
    "n_epoch = 20\n",
    "model_type='lr'\n",
    "\n",
    "res_gan_real = rea.gan_train(x_r, y_r, x_r, y_r, n_epoch=n_epoch, model_type=model_type)\n",
    "res_gan_train = rea.gan_train(x_s, y_s, x_r, y_r, n_epoch=n_epoch, model_type=model_type)\n",
    "res_gan_test = rea.gan_test(x_s, y_s, x_r, y_r, n_epoch=n_epoch, model_type=model_type)"
   ]
  },
  {
   "cell_type": "markdown",
   "metadata": {},
   "source": [
    "Plot resulting ROC curves"
   ]
  },
  {
   "cell_type": "code",
   "execution_count": 24,
   "metadata": {},
   "outputs": [
    {
     "data": {
      "text/plain": [
       "Text(0, 0.5, 'True positive rate')"
      ]
     },
     "execution_count": 24,
     "metadata": {},
     "output_type": "execute_result"
    },
    {
     "data": {
      "image/png": "[encoded data removed]",
      "text/plain": [
       "<Figure size 432x288 with 1 Axes>"
      ]
     },
     "metadata": {
      "needs_background": "light"
     },
     "output_type": "display_data"
    }
   ],
   "source": [
    "fontsize = 14\n",
    "fig, ax3 = plt.subplots(1,1)\n",
    "ax3.plot(res_gan_real['roc'][0], res_gan_real['roc'][1], label=\"Real\")\n",
    "ax3.plot(res_gan_train['roc'][0], res_gan_train['roc'][1], label=\"GAN-train\")\n",
    "ax3.plot(res_gan_test['roc'][0], res_gan_test['roc'][1], label=\"GAN-test\")\n",
    "ax3.plot([0,1],[0,1], color=\"gray\", linestyle='--')\n",
    "ax3.tick_params(axis='x', labelsize=fontsize)\n",
    "ax3.tick_params(axis='y', labelsize=fontsize)\n",
    "ax3.legend(fontsize=fontsize)\n",
    "ax3.set_xlabel('False positive rate', fontsize=fontsize)\n",
    "ax3.set_ylabel('True positive rate', fontsize=fontsize)"
   ]
  },
  {
   "cell_type": "markdown",
   "metadata": {},
   "source": [
    "## Privacy"
   ]
  },
  {
   "cell_type": "markdown",
   "metadata": {},
   "source": [
    "## Nearest neighbors\n",
    "Ensure that synthetic dataset is not a copy of the real dataset by comparing distances between pairs of real and synthetic samples\n",
    "* Real-real: distance between randomly selected pairs of real samples\n",
    "* Real-synthetic: distance between pairs of real and synthetic samples\n",
    "* Real-probabilistic: distance between a real sample and sampled binary vector where each column is sampled from a binomial where the frequency equals that in the real training set\n",
    "* Real-random: distance between a real sample and a randomly sampled binary vector"
   ]
  },
  {
   "cell_type": "code",
   "execution_count": 26,
   "metadata": {},
   "outputs": [
    {
     "name": "stdout",
     "output_type": "stream",
     "text": [
      "Mean nearest neighbor distance: \n",
      "  > Real-real:\t\t0.14\n",
      "  > Real-synthetic:\t0.38\n",
      "  > Real-probabilistic: 0.46\n",
      "  > Real-random:\t1.67\n"
     ]
    }
   ],
   "source": [
    "n_nn_sample = 100\n",
    "dist_metric = 'euclidean'\n",
    "n_decimal=2\n",
    "\n",
    "idx_r = np.random.randint(low=0, high=len(r), size=min((len(r), n_nn_sample)))\n",
    "idx_s = np.random.randint(low=0, high=len(s), size=min((len(s), n_nn_sample)))\n",
    "res_nn = pri.assess_memorization(r[idx_r,:], s[idx_s,:], metric=dist_metric)\n",
    "\n",
    "print('Mean nearest neighbor distance: ')\n",
    "print('  > Real-real:\\t\\t'+str(np.round(np.mean(res_nn['real']),n_decimal)))\n",
    "print('  > Real-synthetic:\\t'+str(np.round(np.mean(res_nn['synth']),n_decimal)))\n",
    "print('  > Real-probabilistic: '+str(np.round(np.mean(res_nn['prob']),n_decimal)))\n",
    "print('  > Real-random:\\t'+str(np.round(np.mean(res_nn['rand']),n_decimal)))"
   ]
  },
  {
   "cell_type": "markdown",
   "metadata": {},
   "source": [
    "Plot distributions for nearest neighbor distances"
   ]
  },
  {
   "cell_type": "code",
   "execution_count": 27,
   "metadata": {},
   "outputs": [
    {
     "data": {
      "text/plain": [
       "<matplotlib.legend.Legend at 0x7f8de8fead50>"
      ]
     },
     "execution_count": 27,
     "metadata": {},
     "output_type": "execute_result"
    },
    {
     "data": {
      "image/png": "[encoded data removed]",
      "text/plain": [
       "<Figure size 432x288 with 1 Axes>"
      ]
     },
     "metadata": {
      "needs_background": "light"
     },
     "output_type": "display_data"
    }
   ],
   "source": [
    "fontsize = 14\n",
    "fig, ax2 = plt.subplots(1,1)\n",
    "ax2.hist((res_nn['real'], res_nn['synth'], \n",
    "          res_nn['prob'], res_nn['rand']),\n",
    "         bins=30, \n",
    "         label = ['Real-real','Real-synthetic','Real-probabilistic','Real-random'])\n",
    "ax2.set_xlabel(dist_metric.capitalize()+' distance', fontsize=fontsize)\n",
    "ax2.set_ylabel('Number of samples', fontsize=fontsize)\n",
    "ax2.tick_params(axis='x', labelsize=fontsize)\n",
    "ax2.tick_params(axis='y', labelsize=fontsize)\n",
    "ax2.legend(fontsize=fontsize)\n"
   ]
  }
 ],
 "metadata": {
  "kernelspec": {
   "display_name": "Python 3",
   "language": "python",
   "name": "python3"
  },
  "language_info": {
   "codemirror_mode": {
    "name": "ipython",
    "version": 3
   },
   "file_extension": ".py",
   "mimetype": "text/x-python",
   "name": "python",
   "nbconvert_exporter": "python",
   "pygments_lexer": "ipython3",
   "version": "3.7.4"
  }
 },
 "nbformat": 4,
 "nbformat_minor": 4
}
