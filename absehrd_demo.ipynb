{
 "cells": [
  {
   "cell_type": "markdown",
   "metadata": {},
   "source": [
    "# ABSEHRD package demo\n",
    "This notebook demonstrates Automated Brewering Synthetic Electronic Health Record Data (ABSEHRD) package functionality on a toy dataset."
   ]
  },
  {
   "cell_type": "markdown",
   "metadata": {},
   "source": [
    "## Setup"
   ]
  },
  {
   "cell_type": "markdown",
   "metadata": {},
   "source": [
    "### Import python and ABSEHRD modules"
   ]
  },
  {
   "cell_type": "code",
   "execution_count": 1,
   "metadata": {},
   "outputs": [],
   "source": [
    "import numpy as np\n",
    "import matplotlib.pyplot as plt\n",
    "\n",
    "from preprocessor import Preprocessor\n",
    "from corgan import Corgan\n",
    "from realism import Realism\n",
    "from privacy import Privacy"
   ]
  },
  {
   "cell_type": "markdown",
   "metadata": {},
   "source": [
    "### Set parameters for the toy dataset and demo"
   ]
  },
  {
   "cell_type": "code",
   "execution_count": 2,
   "metadata": {},
   "outputs": [],
   "source": [
    "# toy dataset\n",
    "n = 10000\n",
    "count_min = 5\n",
    "count_max = 19\n",
    "constant_value = 'helloworld'\n",
    "binary_A = 'A'\n",
    "binary_B = 'B'\n",
    "categorical_values = ['X','Y','Z']\n",
    "\n",
    "# synthetic data generation and validation\n",
    "n_gen = round(n/2)\n",
    "outcome = 'binary01'\n",
    "\n",
    "# sehrd objects\n",
    "pre = Preprocessor(missing_value=-99999)\n",
    "rea = Realism()\n",
    "pri = Privacy()\n",
    "cor = Corgan()"
   ]
  },
  {
   "cell_type": "markdown",
   "metadata": {},
   "source": [
    "### Generate the toy dataset"
   ]
  },
  {
   "cell_type": "code",
   "execution_count": 3,
   "metadata": {},
   "outputs": [
    {
     "name": "stdout",
     "output_type": "stream",
     "text": [
      "[['helloworld' '0' 'A' 'X' '15' '0.057094318619913986']\n",
      " ['helloworld' '0' 'A' 'Y' '15' '0.11304136703858725']\n",
      " ['helloworld' '0' 'A' 'Y' '18' '0.5454070522334']\n",
      " ...\n",
      " ['helloworld' '1' 'A' 'Y' '14' '0.4660913470728536']\n",
      " ['helloworld' '1' 'A' 'Y' '12' '0.5394652260772236']\n",
      " ['helloworld' '1' 'B' 'Z' '9' '0.3228531412679658']]\n"
     ]
    }
   ],
   "source": [
    "names = ['constant','binary01', 'binaryAB', 'categorical','count','continuous']\n",
    "v_constant = np.full(shape=n, fill_value=constant_value)\n",
    "v_binary01 = np.random.randint(low=0, high=2, size=n)\n",
    "v_binaryAB = np.concatenate((np.full(shape=n-1, fill_value=binary_A), np.array([binary_B])))\n",
    "v_categorical = np.random.choice(categorical_values, size=n)\n",
    "v_count = np.random.randint(low=count_min, high=count_max+1, size=n)\n",
    "v_continuous = np.random.random(size=n)\n",
    "x = np.column_stack((v_constant, v_binary01, v_binaryAB, v_categorical, v_count, v_continuous))\n",
    "print(x)"
   ]
  },
  {
   "cell_type": "markdown",
   "metadata": {},
   "source": [
    "### Split into training and testing set"
   ]
  },
  {
   "cell_type": "code",
   "execution_count": 4,
   "metadata": {},
   "outputs": [
    {
     "name": "stdout",
     "output_type": "stream",
     "text": [
      "Number of training samples: 5000\n",
      "Number of testing samples: 5000\n"
     ]
    }
   ],
   "source": [
    "n_subset = round(len(x) * 0.5)\n",
    "idx_trn = np.random.choice(len(x), n_subset, replace=False)\n",
    "idx_tst = np.setdiff1d(range(len(x)), idx_trn)\n",
    "x_trn = x[idx_trn,:]\n",
    "x_tst = x[idx_tst,:]\n",
    "\n",
    "print('Number of training samples: '+str(len(x_trn)))\n",
    "print('Number of testing samples: '+str(len(x_tst)))"
   ]
  },
  {
   "cell_type": "markdown",
   "metadata": {},
   "source": [
    "## Preprocessing"
   ]
  },
  {
   "cell_type": "markdown",
   "metadata": {},
   "source": [
    "### Save metadata for restoring data format after synthetic data generation"
   ]
  },
  {
   "cell_type": "code",
   "execution_count": 5,
   "metadata": {},
   "outputs": [
    {
     "name": "stdout",
     "output_type": "stream",
     "text": [
      "var_name, var_type, min, max, zero, one, unique, missing\n",
      "[('constant', 'constant', 0.00000000e+00,  0.        , 'helloworld', '', '', False)\n",
      " ('binary01', 'binary', 0.00000000e+00,  0.        , '0', '1', '', False)\n",
      " ('binaryAB', 'constant', 0.00000000e+00,  0.        , 'A', '', '', False)\n",
      " ('categorical', 'categorical', 0.00000000e+00,  0.        , '', '', 'X,Y,Z', False)\n",
      " ('count', 'count', 5.00000000e+00, 19.        , '', '', '', False)\n",
      " ('continuous', 'continuous', 1.97705565e-04,  0.99999198, '', '', '', False)]\n"
     ]
    }
   ],
   "source": [
    "meta = pre.get_metadata(arr=x_trn, header=names)\n",
    "print('var_name, var_type, min, max, zero, one, unique, missing')\n",
    "print(meta)"
   ]
  },
  {
   "cell_type": "markdown",
   "metadata": {},
   "source": [
    "### Encode raw data matrix in preparation for training synthetic data generator\n",
    "Note that count and continuous variables have been scaled between 0 and 1 while constant, categorical, and binary have been one-hot encoded."
   ]
  },
  {
   "cell_type": "code",
   "execution_count": 6,
   "metadata": {},
   "outputs": [
    {
     "name": "stdout",
     "output_type": "stream",
     "text": [
      "Formatted matrix:\n",
      "[[0.         0.         1.         ... 0.         0.36048712 0.        ]\n",
      " [0.         0.         0.         ... 0.         0.89328836 0.        ]\n",
      " [0.         0.         0.         ... 0.         0.08453995 0.        ]\n",
      " ...\n",
      " [0.         0.         0.         ... 0.         0.79905136 0.        ]\n",
      " [0.         0.         0.         ... 0.         0.02675126 0.        ]\n",
      " [0.         0.         0.         ... 0.         0.67023497 0.        ]]\n",
      "\n",
      "Header for formatted matrix:\n",
      "['constant__constant' 'constant__-99999' 'binary01__binary01'\n",
      " 'binary01__-99999' 'binaryAB__binaryAB' 'binaryAB__-99999'\n",
      " 'categorical__0' 'categorical__1' 'categorical__2' 'categorical__3'\n",
      " 'count__count' 'count__-99999' 'continuous__continuous'\n",
      " 'continuous__-99999']\n"
     ]
    }
   ],
   "source": [
    "d_trn = pre.get_discretized_matrix(x_trn, meta, names)\n",
    "print('Formatted matrix:')\n",
    "print(d_trn['x'])\n",
    "print('\\nHeader for formatted matrix:')\n",
    "print(d_trn['header'])"
   ]
  },
  {
   "cell_type": "markdown",
   "metadata": {},
   "source": [
    "## Generation"
   ]
  },
  {
   "cell_type": "markdown",
   "metadata": {},
   "source": [
    "### Train CorGAN model "
   ]
  },
  {
   "cell_type": "code",
   "execution_count": 7,
   "metadata": {},
   "outputs": [
    {
     "name": "stderr",
     "output_type": "stream",
     "text": [
      "Pre-training: 100%|██████████| 100/100 [00:10<00:00,  9.48 epochs/s, [A loss: 1.032]]\n",
      "Training: 100%|██████████| 100/100 [00:42<00:00,  2.36 epochs/s, TRAIN: [Loss_D: -0.004] [Loss_G: 0.001] [Loss_D_real: 0.006] [Loss_D_fake 0.001] | TEST: [A loss: 0.98] [real accuracy: 88.09] [fake accuracy: 41.80]]   \n"
     ]
    }
   ],
   "source": [
    "model = cor.train(x=d_trn['x'], n_cpu=1, debug=True, n_epochs_pretrain=100, n_epochs=100)"
   ]
  },
  {
   "cell_type": "markdown",
   "metadata": {},
   "source": [
    "### Generate synthetic samples"
   ]
  },
  {
   "cell_type": "code",
   "execution_count": 8,
   "metadata": {},
   "outputs": [
    {
     "name": "stdout",
     "output_type": "stream",
     "text": [
      "[[3.00044543e-04 4.40460746e-04 3.45335320e-06 ... 2.41476257e-04\n",
      "  8.55842888e-01 1.82823453e-04]\n",
      " [1.07274660e-04 1.04777678e-03 1.41550511e-01 ... 2.65819137e-04\n",
      "  6.56699479e-01 1.04978553e-03]\n",
      " [5.97391154e-05 4.43519384e-04 3.28772967e-06 ... 1.74636734e-04\n",
      "  4.65082318e-01 5.14566782e-04]\n",
      " ...\n",
      " [2.61393655e-03 2.30228174e-02 9.65544587e-07 ... 1.36435786e-02\n",
      "  6.97249025e-02 4.11923183e-03]\n",
      " [1.79113849e-04 3.87135893e-04 9.99999762e-01 ... 9.79463875e-05\n",
      "  8.20894122e-01 1.47721276e-03]\n",
      " [4.56827972e-03 3.95450182e-03 1.72732223e-04 ... 3.61579674e-04\n",
      "  2.18310386e-01 5.54430671e-03]]\n"
     ]
    }
   ],
   "source": [
    "s = cor.generate(model, n_gen)\n",
    "print(s)"
   ]
  },
  {
   "cell_type": "markdown",
   "metadata": {},
   "source": [
    "### Use metadata to restore original formatting"
   ]
  },
  {
   "cell_type": "code",
   "execution_count": 9,
   "metadata": {},
   "outputs": [
    {
     "name": "stdout",
     "output_type": "stream",
     "text": [
      "Synthetic samples:\n",
      "[['helloworld' '0' 'A' 'X' '19.0' '0.8558645264503154']\n",
      " ['helloworld' '0' 'A' 'X' '6.0' '0.6567620853112663']\n",
      " ['helloworld' '0' 'A' 'X' '11.0' '0.4651843445352766']\n",
      " ...\n",
      " ['helloworld' '0' 'A' 'Z' '5.0' '0.06990826398616584']\n",
      " ['helloworld' '1' 'A' 'X' '11.0' '0.8209229500207162']\n",
      " ['helloworld' '0' 'A' 'X' '16.0' '0.21846317980968272']]\n",
      "\n",
      "Real samples:\n",
      "[['helloworld' '0' 'A' 'X' '15' '0.057094318619913986']\n",
      " ['helloworld' '0' 'A' 'Y' '15' '0.11304136703858725']\n",
      " ['helloworld' '0' 'A' 'Y' '18' '0.5454070522334']\n",
      " ...\n",
      " ['helloworld' '1' 'A' 'Y' '14' '0.4660913470728536']\n",
      " ['helloworld' '1' 'A' 'Y' '12' '0.5394652260772236']\n",
      " ['helloworld' '1' 'B' 'Z' '9' '0.3228531412679658']]\n"
     ]
    }
   ],
   "source": [
    "f = pre.restore_matrix(arr=s, meta=meta, header=d_trn['header'])\n",
    "print('Synthetic samples:')\n",
    "print(f['x'])\n",
    "print('\\nReal samples:')\n",
    "print(x)"
   ]
  },
  {
   "cell_type": "markdown",
   "metadata": {},
   "source": [
    "## Realism"
   ]
  },
  {
   "cell_type": "markdown",
   "metadata": {},
   "source": [
    "### Compare univariate frequency for real and synthetic features"
   ]
  },
  {
   "cell_type": "code",
   "execution_count": 10,
   "metadata": {},
   "outputs": [
    {
     "name": "stdout",
     "output_type": "stream",
     "text": [
      "Correlation between feature frequencies = 0.97\n"
     ]
    }
   ],
   "source": [
    "res_uni = rea.validate_univariate(arr_r=d_trn['x'], arr_s=s, header=d_trn['header'])\n",
    "corr_uni = np.corrcoef(x=res_uni['frq_r'], y=res_uni['frq_s'])[0,1]\n",
    "print('Correlation between feature frequencies =',np.round(corr_uni,2))"
   ]
  },
  {
   "cell_type": "markdown",
   "metadata": {},
   "source": [
    "Plot the synthetic and real feature frequencies for each feature..."
   ]
  },
  {
   "cell_type": "code",
   "execution_count": 11,
   "metadata": {},
   "outputs": [
    {
     "data": {
      "text/plain": [
       "<matplotlib.legend.Legend at 0x7fc891208f10>"
      ]
     },
     "execution_count": 11,
     "metadata": {},
     "output_type": "execute_result"
    },
    {
     "data": {
      "image/png": "[encoded data removed]",
      "text/plain": [
       "<Figure size 432x288 with 1 Axes>"
      ]
     },
     "metadata": {
      "needs_background": "light"
     },
     "output_type": "display_data"
    }
   ],
   "source": [
    "fontsize = 14\n",
    "fig, ax1 = plt.subplots(1,1)\n",
    "ax1.plot([0,1],[0,1], color=\"gray\", linestyle='--')\n",
    "ax1.scatter(res_uni['frq_r'], res_uni['frq_s'], label='Frequency')\n",
    "ax1.set_xlabel('Real feature frequency', fontsize=fontsize)\n",
    "ax1.set_ylabel('Synthetic feature frequency', fontsize=fontsize)\n",
    "ax1.set_xlim([0, 1])\n",
    "ax1.set_ylim([0, 1])\n",
    "ax1.tick_params(axis='x', labelsize=fontsize)\n",
    "ax1.tick_params(axis='y', labelsize=fontsize)\n",
    "ax1.legend(fontsize=fontsize)"
   ]
  },
  {
   "cell_type": "markdown",
   "metadata": {},
   "source": [
    "### Compare predictive performance\n",
    "* Real: use real dataset to train predictive model and test on a separate real dataset\n",
    "* GAN-train: use synthetic dataset to train predictive model and test on a real dataset\n",
    "*GAN-test: use real dataset to train predictive model and test on the synthetic dataset"
   ]
  },
  {
   "cell_type": "code",
   "execution_count": 12,
   "metadata": {},
   "outputs": [
    {
     "name": "stdout",
     "output_type": "stream",
     "text": [
      "Extract outcome 'binary01' from real and synthetic datasets\n",
      "\n",
      "Header:\n",
      "['constant__constant' 'constant__-99999' 'binary01__binary01'\n",
      " 'binary01__-99999' 'binaryAB__binaryAB' 'binaryAB__-99999'\n",
      " 'categorical__0' 'categorical__1' 'categorical__2' 'categorical__3'\n",
      " 'count__count' 'count__-99999' 'continuous__continuous'\n",
      " 'continuous__-99999']\n"
     ]
    }
   ],
   "source": [
    "print('Extract outcome \\'', outcome,'\\' from real and synthetic datasets', sep='')\n",
    "print('\\nHeader:')\n",
    "print(d_trn['header'])"
   ]
  },
  {
   "cell_type": "code",
   "execution_count": 13,
   "metadata": {},
   "outputs": [
    {
     "name": "stdout",
     "output_type": "stream",
     "text": [
      "Real dataset dimensions: (5000, 13)\n",
      "Synthetic dataset dimensions: (5000, 13)\n"
     ]
    }
   ],
   "source": [
    "r = d_trn['x']\n",
    "\n",
    "idx_outcome = np.where(d_trn['header'] == outcome+'__'+outcome)\n",
    "y_r = np.reshape(np.round(np.reshape(r[:,idx_outcome], newshape=(len(r),1))).astype(int), len(r))\n",
    "y_s = np.reshape(np.round(np.reshape(s[:,idx_outcome], newshape=(len(s),1))).astype(int), len(s))\n",
    "x_r = np.delete(r, idx_outcome, axis=1)\n",
    "x_s = np.delete(s, idx_outcome, axis=1)\n",
    "\n",
    "print('Real dataset dimensions:',x_r.shape)\n",
    "print('Synthetic dataset dimensions:',x_s.shape)"
   ]
  },
  {
   "cell_type": "markdown",
   "metadata": {},
   "source": [
    "Train model for each validation test"
   ]
  },
  {
   "cell_type": "code",
   "execution_count": 14,
   "metadata": {},
   "outputs": [],
   "source": [
    "n_epoch = 20\n",
    "model_type='lr'\n",
    "\n",
    "res_gan_real = rea.gan_train(x_r, y_r, x_r, y_r, n_epoch=n_epoch, model_type=model_type)\n",
    "res_gan_train = rea.gan_train(x_s, y_s, x_r, y_r, n_epoch=n_epoch, model_type=model_type)\n",
    "res_gan_test = rea.gan_test(x_s, y_s, x_r, y_r, n_epoch=n_epoch, model_type=model_type)"
   ]
  },
  {
   "cell_type": "markdown",
   "metadata": {},
   "source": [
    "Plot resulting ROC curves"
   ]
  },
  {
   "cell_type": "code",
   "execution_count": 15,
   "metadata": {},
   "outputs": [
    {
     "data": {
      "text/plain": [
       "Text(0, 0.5, 'True positive rate')"
      ]
     },
     "execution_count": 15,
     "metadata": {},
     "output_type": "execute_result"
    },
    {
     "data": {
      "image/png": "[encoded data removed]",
      "text/plain": [
       "<Figure size 432x288 with 1 Axes>"
      ]
     },
     "metadata": {
      "needs_background": "light"
     },
     "output_type": "display_data"
    }
   ],
   "source": [
    "fontsize = 14\n",
    "fig, ax3 = plt.subplots(1,1)\n",
    "ax3.plot(res_gan_real['roc'][0], res_gan_real['roc'][1], label=\"Real\")\n",
    "ax3.plot(res_gan_train['roc'][0], res_gan_train['roc'][1], label=\"GAN-train\")\n",
    "ax3.plot(res_gan_test['roc'][0], res_gan_test['roc'][1], label=\"GAN-test\")\n",
    "ax3.plot([0,1],[0,1], color=\"gray\", linestyle='--')\n",
    "ax3.tick_params(axis='x', labelsize=fontsize)\n",
    "ax3.tick_params(axis='y', labelsize=fontsize)\n",
    "ax3.legend(fontsize=fontsize)\n",
    "ax3.set_xlabel('False positive rate', fontsize=fontsize)\n",
    "ax3.set_ylabel('True positive rate', fontsize=fontsize)"
   ]
  },
  {
   "cell_type": "markdown",
   "metadata": {},
   "source": [
    "## Privacy"
   ]
  },
  {
   "cell_type": "markdown",
   "metadata": {},
   "source": [
    "## Nearest neighbors\n",
    "Ensure that synthetic dataset is not a copy of the real dataset by comparing distances between pairs of real and synthetic samples\n",
    "* Real-real: distance between randomly selected pairs of real samples\n",
    "* Real-synthetic: distance between pairs of real and synthetic samples\n",
    "* Real-probabilistic: distance between a real sample and sampled binary vector where each column is sampled from a binomial where the frequency equals that in the real training set\n",
    "* Real-random: distance between a real sample and a randomly sampled binary vector"
   ]
  },
  {
   "cell_type": "markdown",
   "metadata": {},
   "source": [
    "Calculate nearest neighbor distributions:"
   ]
  },
  {
   "cell_type": "code",
   "execution_count": 23,
   "metadata": {},
   "outputs": [],
   "source": [
    "n_nn_sample = 100\n",
    "dist_metric = 'euclidean'\n",
    "n_decimal=2\n",
    "\n",
    "idx_r = np.random.randint(low=0, high=len(r), size=min((len(r), n_nn_sample)))\n",
    "idx_s = np.random.randint(low=0, high=len(s), size=min((len(s), n_nn_sample)))\n",
    "res_nn = pri.assess_memorization(r[idx_r,:], s[idx_s,:], metric=dist_metric)"
   ]
  },
  {
   "cell_type": "markdown",
   "metadata": {},
   "source": [
    "Summarize and plot distributions for nearest neighbor distances:"
   ]
  },
  {
   "cell_type": "code",
   "execution_count": 26,
   "metadata": {},
   "outputs": [
    {
     "name": "stdout",
     "output_type": "stream",
     "text": [
      "Mean nearest neighbor distance:   > Real-real: 0.14  > Real-synthetic: 0.31  > Real-probabilistic: 0.4  > Real-random: 1.56\n"
     ]
    },
    {
     "data": {
      "image/png": "[encoded data removed]",
      "text/plain": [
       "<Figure size 432x288 with 1 Axes>"
      ]
     },
     "metadata": {
      "needs_background": "light"
     },
     "output_type": "display_data"
    }
   ],
   "source": [
    "print(pri.summarize(res_nn, analysis='nearest_neighbors'))\n",
    "res_plt = pri.plot(res_nn, analysis='nearest_neighbors')"
   ]
  },
  {
   "cell_type": "markdown",
   "metadata": {},
   "source": [
    "## Membership inference\n",
    "Membership inference refers to the ability to determine if a given data sample was used to train a model of interest.  In the case of synthetic data, calculating the risk of accurate membership inference given a sample of synthetic data can provide a metric to assess risk to privacy of the synthetic dataset to individuals whose data was used to train the synthetic data generator.  \n",
    "\n",
    "Risk of membership inference can be assessed in multiple scenarios with differing assumptions about what data is available to the attacker."
   ]
  },
  {
   "cell_type": "markdown",
   "metadata": {},
   "source": [
    "### Distance-based thresholding\n",
    "Choi et al. (2017) and Torfi et al. (2020) calculated the distance between synthetic and real samples. Real samples were derived from the training dataset for the synthetic data generator and from a separate testing set.  Pairwise distances between synthetic and real samples were predicted as a match if the distance was within a specified threshold.  Predictions and labels were then compared to derived performance metrics for the membership inference attack. "
   ]
  },
  {
   "cell_type": "code",
   "execution_count": 20,
   "metadata": {},
   "outputs": [],
   "source": [
    "d_tst = pre.get_discretized_matrix(x_tst, meta, names)\n",
    "mi_torfi = pri.membership_inference(r_trn=d_trn['x'], r_tst=d_tst['x'], s_all=s, mi_type='torfi', n_cpu=1)"
   ]
  },
  {
   "cell_type": "code",
   "execution_count": 21,
   "metadata": {},
   "outputs": [
    {
     "name": "stdout",
     "output_type": "stream",
     "text": [
      "AUC for membership inference attack: 0.5\n"
     ]
    },
    {
     "data": {
      "image/png": "[encoded data removed]",
      "text/plain": [
       "<Figure size 432x288 with 1 Axes>"
      ]
     },
     "metadata": {
      "needs_background": "light"
     },
     "output_type": "display_data"
    },
    {
     "data": {
      "text/plain": [
       "True"
      ]
     },
     "execution_count": 21,
     "metadata": {},
     "output_type": "execute_result"
    }
   ],
   "source": [
    "print(pri.summarize(res=mi_torfi, analysis='membership_inference'))\n",
    "pri.plot(res=mi_torfi, analysis='membership_inference')"
   ]
  }
 ],
 "metadata": {
  "kernelspec": {
   "display_name": "Python 3",
   "language": "python",
   "name": "python3"
  },
  "language_info": {
   "codemirror_mode": {
    "name": "ipython",
    "version": 3
   },
   "file_extension": ".py",
   "mimetype": "text/x-python",
   "name": "python",
   "nbconvert_exporter": "python",
   "pygments_lexer": "ipython3",
   "version": "3.7.4"
  }
 },
 "nbformat": 4,
 "nbformat_minor": 4
}
