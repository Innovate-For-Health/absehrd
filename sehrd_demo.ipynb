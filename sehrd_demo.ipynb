{
 "cells": [
  {
   "cell_type": "markdown",
   "metadata": {},
   "source": [
    "# Synthetic Electronic Health Record Data (SEHRD) package demo\n",
    "This notebook demonstrates SEHRD package functionality on a toy dataset."
   ]
  },
  {
   "cell_type": "markdown",
   "metadata": {},
   "source": [
    "## Setup"
   ]
  },
  {
   "cell_type": "markdown",
   "metadata": {},
   "source": [
    "### Import python and SEHRD modules"
   ]
  },
  {
   "cell_type": "code",
   "execution_count": 18,
   "metadata": {},
   "outputs": [],
   "source": [
    "import numpy as np\n",
    "import matplotlib.pyplot as plt\n",
    "from torch.utils.data import random_split\n",
    "\n",
    "from preprocessor import preprocessor\n",
    "from corgan import corgan\n",
    "from realism import realism\n",
    "from privacy import privacy"
   ]
  },
  {
   "cell_type": "markdown",
   "metadata": {},
   "source": [
    "### Set parameters for the toy dataset and demo"
   ]
  },
  {
   "cell_type": "code",
   "execution_count": 2,
   "metadata": {},
   "outputs": [],
   "source": [
    "# toy dataset\n",
    "n = 1000\n",
    "count_min = 5\n",
    "count_max = 19\n",
    "constant_value = 'helloworld'\n",
    "binary_A = 'A'\n",
    "binary_B = 'B'\n",
    "categorical_values = ['X','Y','Z']\n",
    "\n",
    "# synthetic data generation and validation\n",
    "n_gen = n\n",
    "outcome = 'binary01'\n",
    "\n",
    "# sehrd objects\n",
    "pre = preprocessor(missing_value=-99999)\n",
    "rea = realism(missing_value=-99999)\n",
    "pri = privacy()\n",
    "cor = corgan()"
   ]
  },
  {
   "cell_type": "markdown",
   "metadata": {},
   "source": [
    "### Generate the toy dataset"
   ]
  },
  {
   "cell_type": "code",
   "execution_count": 3,
   "metadata": {},
   "outputs": [
    {
     "name": "stdout",
     "output_type": "stream",
     "text": [
      "[['helloworld' '1' 'A' 'Z' '11' '0.03148805764072893']\n",
      " ['helloworld' '0' 'A' 'Z' '11' '0.4779227115913218']\n",
      " ['helloworld' '0' 'A' 'Y' '5' '0.042181201983812366']\n",
      " ...\n",
      " ['helloworld' '0' 'A' 'Z' '9' '0.2823859399953834']\n",
      " ['helloworld' '0' 'A' 'X' '15' '0.813188649649376']\n",
      " ['helloworld' '0' 'B' 'Z' '11' '0.9646566152865818']]\n"
     ]
    }
   ],
   "source": [
    "names = ['constant','binary01', 'binaryAB', 'categorical','count','continuous']\n",
    "v_constant = np.full(shape=n, fill_value=constant_value)\n",
    "v_binary01 = np.random.randint(low=0, high=2, size=n)\n",
    "v_binaryAB = np.concatenate((np.full(shape=n-1, fill_value=binary_A), np.array([binary_B])))\n",
    "v_categorical = np.random.choice(categorical_values, size=n)\n",
    "v_count = np.random.randint(low=count_min, high=count_max+1, size=n)\n",
    "v_continuous = np.random.random(size=n)\n",
    "x = np.column_stack((v_constant, v_binary01, v_binaryAB, v_categorical, v_count, v_continuous))\n",
    "print(x)"
   ]
  },
  {
   "cell_type": "markdown",
   "metadata": {},
   "source": [
    "## Preprocessing"
   ]
  },
  {
   "cell_type": "markdown",
   "metadata": {},
   "source": [
    "### Save metadata for restoring data format after synthetic data generation"
   ]
  },
  {
   "cell_type": "code",
   "execution_count": 4,
   "metadata": {},
   "outputs": [
    {
     "name": "stdout",
     "output_type": "stream",
     "text": [
      "var_name, var_type, min, max, zero, one\n",
      "[('constant', 'constant', 0.00000000e+00,  0.        , 'helloworld', '')\n",
      " ('binary01', 'binary', 0.00000000e+00,  0.        , '0', '1')\n",
      " ('binaryAB', 'binary', 0.00000000e+00,  0.        , 'A', 'B')\n",
      " ('categorical', 'categorical', 0.00000000e+00,  0.        , '', '')\n",
      " ('count', 'count', 5.00000000e+00, 19.        , '', '')\n",
      " ('continuous', 'continuous', 8.53870666e-04,  0.99821322, '', '')]\n"
     ]
    }
   ],
   "source": [
    "m = pre.get_metadata(x=x, header=names)\n",
    "print('var_name, var_type, min, max, zero, one')\n",
    "print(m)"
   ]
  },
  {
   "cell_type": "markdown",
   "metadata": {},
   "source": [
    "### Encode raw data matrix in preparation for training synthetic data generator\n",
    "Note that count and continuous variables have been scaled between 0 and 1 while constant, categorical, and binary have been one-hot encoded."
   ]
  },
  {
   "cell_type": "code",
   "execution_count": 5,
   "metadata": {},
   "outputs": [
    {
     "name": "stdout",
     "output_type": "stream",
     "text": [
      "Formatted matrix:\n",
      "[[0.         1.         0.         ... 1.         0.42857143 0.0307153 ]\n",
      " [0.         0.         0.         ... 1.         0.42857143 0.47833195]\n",
      " [0.         0.         0.         ... 0.         0.         0.04143675]\n",
      " ...\n",
      " [0.         0.         0.         ... 1.         0.28571429 0.28227747]\n",
      " [0.         0.         0.         ... 0.         0.71428571 0.81448555]\n",
      " [0.         0.         1.         ... 1.         0.42857143 0.96635455]]\n",
      "\n",
      "Header for formatted matrix:\n",
      "['constant' 'binary01' 'binaryAB' 'categorical__X' 'categorical__Y'\n",
      " 'categorical__Z' 'count' 'continuous']\n"
     ]
    }
   ],
   "source": [
    "d = pre.get_discretized_matrix(x, m, names)\n",
    "print('Formatted matrix:')\n",
    "print(d['x'])\n",
    "print('\\nHeader for formatted matrix:')\n",
    "print(d['header'])"
   ]
  },
  {
   "cell_type": "markdown",
   "metadata": {},
   "source": [
    "## Generation"
   ]
  },
  {
   "cell_type": "markdown",
   "metadata": {},
   "source": [
    "### Train CorGAN model "
   ]
  },
  {
   "cell_type": "code",
   "execution_count": 6,
   "metadata": {},
   "outputs": [],
   "source": [
    "model = cor.train(x=d['x'], n_cpu=15)"
   ]
  },
  {
   "cell_type": "markdown",
   "metadata": {},
   "source": [
    "### Generate synthetic samples"
   ]
  },
  {
   "cell_type": "code",
   "execution_count": 7,
   "metadata": {},
   "outputs": [
    {
     "name": "stdout",
     "output_type": "stream",
     "text": [
      "[[7.38135306e-03 7.40758121e-01 1.84497274e-02 ... 1.74200296e-01\n",
      "  1.02218561e-01 9.92099822e-01]\n",
      " [6.80302875e-03 3.42431333e-04 3.26626077e-02 ... 4.93904531e-01\n",
      "  9.66996670e-01 5.89354895e-03]\n",
      " [9.87000018e-03 6.39108419e-01 3.28268707e-02 ... 2.33602226e-02\n",
      "  9.99239683e-01 9.98847723e-01]\n",
      " ...\n",
      " [2.43831193e-03 5.66772044e-01 6.68885792e-03 ... 7.48093486e-01\n",
      "  1.30080190e-02 8.22147548e-01]\n",
      " [7.57393567e-03 9.41256225e-01 2.04878896e-02 ... 5.97040594e-01\n",
      "  9.92925763e-01 6.39811754e-01]\n",
      " [3.73096508e-03 9.94164288e-01 1.50175905e-02 ... 9.78583455e-01\n",
      "  3.27437937e-01 9.98740256e-01]]\n"
     ]
    }
   ],
   "source": [
    "s = cor.generate(model, n_gen)\n",
    "print(s)"
   ]
  },
  {
   "cell_type": "markdown",
   "metadata": {},
   "source": [
    "### Use metadata to restore original formatting"
   ]
  },
  {
   "cell_type": "code",
   "execution_count": 8,
   "metadata": {},
   "outputs": [
    {
     "name": "stdout",
     "output_type": "stream",
     "text": [
      "Synthetic samples:\n",
      "[['helloworld' '0' 'A' 'X' '6.0' '0.9903339024780393']\n",
      " ['helloworld' '0' 'A' 'Z' '19.0' '0.006731856808092893']\n",
      " ['helloworld' '0' 'A' 'X' '19.0' '0.9970639850625101']\n",
      " ...\n",
      " ['helloworld' '0' 'A' 'Z' '5.0' '0.82083041381308']\n",
      " ['helloworld' '0' 'A' 'Z' '19.0' '0.6389761051056139']\n",
      " ['helloworld' '0' 'A' 'Z' '10.0' '0.996956801671322']]\n",
      "\n",
      "Real samples:\n",
      "[['helloworld' '1' 'A' 'Z' '11' '0.03148805764072893']\n",
      " ['helloworld' '0' 'A' 'Z' '11' '0.4779227115913218']\n",
      " ['helloworld' '0' 'A' 'Y' '5' '0.042181201983812366']\n",
      " ...\n",
      " ['helloworld' '0' 'A' 'Z' '9' '0.2823859399953834']\n",
      " ['helloworld' '0' 'A' 'X' '15' '0.813188649649376']\n",
      " ['helloworld' '0' 'B' 'Z' '11' '0.9646566152865818']]\n"
     ]
    }
   ],
   "source": [
    "f = pre.restore_matrix(s=s, m=m, header=d['header'])\n",
    "print('Synthetic samples:')\n",
    "print(f['x'])\n",
    "print('\\nReal samples:')\n",
    "print(x)"
   ]
  },
  {
   "cell_type": "markdown",
   "metadata": {},
   "source": [
    "## Realism"
   ]
  },
  {
   "cell_type": "markdown",
   "metadata": {},
   "source": [
    "### Compare univariate frequency for real and synthetic features"
   ]
  },
  {
   "cell_type": "code",
   "execution_count": 9,
   "metadata": {},
   "outputs": [
    {
     "name": "stdout",
     "output_type": "stream",
     "text": [
      "Correlation between feature frequencies = 0.87\n"
     ]
    }
   ],
   "source": [
    "res_uni = rea.validate_univariate(r=d['x'], s=s, header=d['header'], discretized=True)\n",
    "corr_uni = np.corrcoef(x=res_uni['frq_r'], y=res_uni['frq_s'])[0,1]\n",
    "print('Correlation between feature frequencies =',np.round(corr_uni,2))"
   ]
  },
  {
   "cell_type": "markdown",
   "metadata": {},
   "source": [
    "Plot the synthetic and real feature frequencies for each feature..."
   ]
  },
  {
   "cell_type": "code",
   "execution_count": 10,
   "metadata": {},
   "outputs": [
    {
     "data": {
      "text/plain": [
       "<matplotlib.legend.Legend at 0x7fdac84992d0>"
      ]
     },
     "execution_count": 10,
     "metadata": {},
     "output_type": "execute_result"
    },
    {
     "data": {
      "image/png": "[encoded data removed]",
      "text/plain": [
       "<Figure size 432x288 with 1 Axes>"
      ]
     },
     "metadata": {
      "needs_background": "light"
     },
     "output_type": "display_data"
    }
   ],
   "source": [
    "fontsize = 14\n",
    "fig, ax1 = plt.subplots(1,1)\n",
    "ax1.plot([0,1],[0,1], color=\"gray\", linestyle='--')\n",
    "ax1.scatter(res_uni['frq_r'], res_uni['frq_s'], label='Frequency')\n",
    "ax1.set_xlabel('Real feature frequency', fontsize=fontsize)\n",
    "ax1.set_ylabel('Synthetic feature frequency', fontsize=fontsize)\n",
    "ax1.set_xlim([0, 1])\n",
    "ax1.set_ylim([0, 1])\n",
    "ax1.tick_params(axis='x', labelsize=fontsize)\n",
    "ax1.tick_params(axis='y', labelsize=fontsize)\n",
    "ax1.legend(fontsize=fontsize)"
   ]
  },
  {
   "cell_type": "markdown",
   "metadata": {},
   "source": [
    "### Compare predictive performance\n",
    "* Real: use real dataset to train predictive model and test on a separate real dataset\n",
    "* GAN-train: use synthetic dataset to train predictive model and test on a real dataset\n",
    "*GAN-test: use real dataset to train predictive model and test on the synthetic dataset"
   ]
  },
  {
   "cell_type": "code",
   "execution_count": 11,
   "metadata": {},
   "outputs": [
    {
     "name": "stdout",
     "output_type": "stream",
     "text": [
      "Extract outcome 'binary01' from real and synthetic datasets\n"
     ]
    }
   ],
   "source": [
    "print('Extract outcome \\'', outcome,'\\' from real and synthetic datasets', sep='')"
   ]
  },
  {
   "cell_type": "code",
   "execution_count": 12,
   "metadata": {},
   "outputs": [
    {
     "name": "stdout",
     "output_type": "stream",
     "text": [
      "Real dataset dimensions: (1000, 7)\n",
      "Synthetic dataset dimensions: (1000, 7)\n"
     ]
    }
   ],
   "source": [
    "r = d['x']\n",
    "\n",
    "idx_outcome = np.where(d['header'] == outcome)\n",
    "y_r = np.reshape(np.round(np.reshape(r[:,idx_outcome], newshape=(len(r),1))).astype(int), len(r))\n",
    "y_s = np.reshape(np.round(np.reshape(s[:,idx_outcome], newshape=(len(s),1))).astype(int), len(s))\n",
    "x_r = np.delete(r, idx_outcome, axis=1)\n",
    "x_s = np.delete(s, idx_outcome, axis=1)\n",
    "\n",
    "print('Real dataset dimensions:',x_r.shape)\n",
    "print('Synthetic dataset dimensions:',x_s.shape)"
   ]
  },
  {
   "cell_type": "markdown",
   "metadata": {},
   "source": [
    "Train model for each validation test"
   ]
  },
  {
   "cell_type": "code",
   "execution_count": 13,
   "metadata": {},
   "outputs": [],
   "source": [
    "n_epoch = 20\n",
    "model_type='lr'\n",
    "\n",
    "res_gan_real = rea.gan_train(x_r, y_r, x_r, y_r, n_epoch=n_epoch, model_type=model_type)\n",
    "res_gan_train = rea.gan_train(x_s, y_s, x_r, y_r, n_epoch=n_epoch, model_type=model_type)\n",
    "res_gan_test = rea.gan_test(x_s, y_s, x_r, y_r, n_epoch=n_epoch, model_type=model_type)"
   ]
  },
  {
   "cell_type": "markdown",
   "metadata": {},
   "source": [
    "Plot resulting ROC curves"
   ]
  },
  {
   "cell_type": "code",
   "execution_count": 14,
   "metadata": {},
   "outputs": [
    {
     "data": {
      "text/plain": [
       "Text(0, 0.5, 'True positive rate')"
      ]
     },
     "execution_count": 14,
     "metadata": {},
     "output_type": "execute_result"
    },
    {
     "data": {
      "image/png": "[encoded data removed]",
      "text/plain": [
       "<Figure size 432x288 with 1 Axes>"
      ]
     },
     "metadata": {
      "needs_background": "light"
     },
     "output_type": "display_data"
    }
   ],
   "source": [
    "fontsize = 14\n",
    "fig, ax3 = plt.subplots(1,1)\n",
    "ax3.plot(res_gan_real['roc'][0], res_gan_real['roc'][1], label=\"Real\")\n",
    "ax3.plot(res_gan_train['roc'][0], res_gan_train['roc'][1], label=\"GAN-train\")\n",
    "ax3.plot(res_gan_test['roc'][0], res_gan_test['roc'][1], label=\"GAN-test\")\n",
    "ax3.plot([0,1],[0,1], color=\"gray\", linestyle='--')\n",
    "ax3.tick_params(axis='x', labelsize=fontsize)\n",
    "ax3.tick_params(axis='y', labelsize=fontsize)\n",
    "ax3.legend(fontsize=fontsize)\n",
    "ax3.set_xlabel('False positive rate', fontsize=fontsize)\n",
    "ax3.set_ylabel('True positive rate', fontsize=fontsize)"
   ]
  },
  {
   "cell_type": "markdown",
   "metadata": {},
   "source": [
    "## Privacy"
   ]
  },
  {
   "cell_type": "markdown",
   "metadata": {},
   "source": [
    "## Nearest neighbors\n",
    "Ensure that synthetic dataset is not a copy of the real dataset by comparing distances between pairs of real and synthetic samples\n",
    "* Real-real: distance between randomly selected pairs of real samples\n",
    "* Real-synthetic: distance between pairs of real and synthetic samples\n",
    "* Real-probabilistic: distance between a real sample and sampled binary vector where each column is sampled from a binomial where the frequency equals that in the real training set\n",
    "* Real-random: distance between a real sample and a randomly sampled binary vector"
   ]
  },
  {
   "cell_type": "code",
   "execution_count": 15,
   "metadata": {},
   "outputs": [
    {
     "name": "stdout",
     "output_type": "stream",
     "text": [
      "Mean nearest neighbor distance: \n",
      "  > Real-real:\t\t0.12\n",
      "  > Real-synthetic:\t0.55\n",
      "  > Real-probabilistic: 0.43\n",
      "  > Real-random:\t0.84\n"
     ]
    }
   ],
   "source": [
    "n_nn_sample = 100\n",
    "dist_metric = 'euclidean'\n",
    "n_decimal=2\n",
    "\n",
    "idx_r = np.random.randint(low=0, high=len(r), size=min((len(r), n_nn_sample)))\n",
    "idx_s = np.random.randint(low=0, high=len(s), size=min((len(s), n_nn_sample)))\n",
    "res_nn = pri.assess_memorization(r[idx_r,:], s[idx_s,:], metric=dist_metric)\n",
    "\n",
    "print('Mean nearest neighbor distance: ')\n",
    "print('  > Real-real:\\t\\t'+str(np.round(np.mean(res_nn['real']),n_decimal)))\n",
    "print('  > Real-synthetic:\\t'+str(np.round(np.mean(res_nn['synth']),n_decimal)))\n",
    "print('  > Real-probabilistic: '+str(np.round(np.mean(res_nn['prob']),n_decimal)))\n",
    "print('  > Real-random:\\t'+str(np.round(np.mean(res_nn['rand']),n_decimal)))"
   ]
  },
  {
   "cell_type": "markdown",
   "metadata": {},
   "source": [
    "Plot distributions for nearest neighbor distances"
   ]
  },
  {
   "cell_type": "code",
   "execution_count": 16,
   "metadata": {},
   "outputs": [
    {
     "data": {
      "text/plain": [
       "<matplotlib.legend.Legend at 0x7fdb50556f90>"
      ]
     },
     "execution_count": 16,
     "metadata": {},
     "output_type": "execute_result"
    },
    {
     "data": {
      "image/png": "[encoded data removed]",
      "text/plain": [
       "<Figure size 432x288 with 1 Axes>"
      ]
     },
     "metadata": {
      "needs_background": "light"
     },
     "output_type": "display_data"
    }
   ],
   "source": [
    "fontsize = 14\n",
    "fig, ax2 = plt.subplots(1,1)\n",
    "ax2.hist((res_nn['real'], res_nn['synth'], \n",
    "          res_nn['prob'], res_nn['rand']),\n",
    "         bins=30, \n",
    "         label = ['Real-real','Real-synthetic','Real-probabilistic','Real-random'])\n",
    "ax2.set_xlabel(dist_metric.capitalize()+' distance', fontsize=fontsize)\n",
    "ax2.set_ylabel('Number of samples', fontsize=fontsize)\n",
    "ax2.tick_params(axis='x', labelsize=fontsize)\n",
    "ax2.tick_params(axis='y', labelsize=fontsize)\n",
    "ax2.legend(fontsize=fontsize)\n"
   ]
  },
  {
   "cell_type": "markdown",
   "metadata": {},
   "source": [
    "## Membership inference\n",
    "Membership inference is a well researched area for determining the privacy preserving properties of machine learning models. Membership inference is defined as the ability to infer if a given sample was included in the training set of a model.  \n",
    "\n",
    "In the case of generative models and synthetic data, we use the membership inference paradigm to quantify risks to the privacy of participants whose data was used to train the generator.  We assume a black-box model with respect to the generator and that the attacker has access to data from same sample population as the real training data.  \n",
    "\n",
    "The attack model is a binary classifier trained on a combination of synthetic data output from the generator ('out') and a real auxiliary dataset that was not used to train the generator ('in') to serve as a proxy the real training data.  We then test the ability of the trained classifier to distinguish synthetic from auxiliary data samples.  Finally, we infer the risk of membership inference by using the same classifier to distinguish between real data samples used to train the generator ('in') and real data samples held out from the generator's training set ('out').  "
   ]
  },
  {
   "cell_type": "code",
   "execution_count": 22,
   "metadata": {},
   "outputs": [],
   "source": [
    "# split real-generator, real-auxilliary\n",
    "n_subset_d = round(len(d['x'])*0.5)\n",
    "r, a = random_split(d['x'], [n_subset_d, len(d['x']) - n_subset_d])\n",
    "n_subset_r = round(len(r)*0.75)\n",
    "n_subset_a = round(len(a)*0.75)\n",
    "r_trn, r_tst = random_split(r, [n_subset_r,len(r)-n_subset_r])\n",
    "a_trn, a_tst = random_split(a, [n_subset_a,len(a)-n_subset_a])\n",
    "r_trn = np.array(r_trn)\n",
    "r_tst = np.array(r_tst)\n",
    "a_trn = np.array(a_trn)\n",
    "a_tst = np.array(a_tst)\n",
    "\n",
    "# generate synthetic data and split\n",
    "model = cor.train(x=r_trn, n_cpu=16, debug=False, n_epochs=100)\n",
    "s = cor.generate(model, n_gen=len(r_tst))\n",
    "n_subset_s = round(len(s)*0.75)\n",
    "s_trn, s_tst = random_split(s, [n_subset_s, len(s)-n_subset_s])\n",
    "s_trn = np.array(s_trn)\n",
    "s_tst = np.array(s_tst)\n",
    "\n",
    "# infer performance of the attack model\n",
    "mem_inf = pri.membership_inference(r_trn=r_trn, r_tst=r_tst, s_trn=s_trn, s_tst=s_tst,\n",
    "            a_trn=a_trn, a_tst=a_tst, model_type='svm')\n"
   ]
  },
  {
   "cell_type": "code",
   "execution_count": 23,
   "metadata": {},
   "outputs": [
    {
     "name": "stdout",
     "output_type": "stream",
     "text": [
      "AUC for auxiliary-synthetic:  1.0\n",
      "AUC for real train-test:  0.5199146666666666\n"
     ]
    }
   ],
   "source": [
    "# print area-under the curve\n",
    "print('AUC for auxiliary-synthetic: ', mem_inf['auc_as'])\n",
    "print('AUC for real train-test: ', mem_inf['auc_rr'])\n"
   ]
  }
 ],
 "metadata": {
  "kernelspec": {
   "display_name": "Python 3",
   "language": "python",
   "name": "python3"
  },
  "language_info": {
   "codemirror_mode": {
    "name": "ipython",
    "version": 3
   },
   "file_extension": ".py",
   "mimetype": "text/x-python",
   "name": "python",
   "nbconvert_exporter": "python",
   "pygments_lexer": "ipython3",
   "version": "3.7.4"
  }
 },
 "nbformat": 4,
 "nbformat_minor": 4
}
