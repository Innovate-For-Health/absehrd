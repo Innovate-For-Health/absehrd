{
 "cells": [
  {
   "cell_type": "markdown",
   "metadata": {},
   "source": [
    "# Synthetic Electronic Health Record Data (SEHRD) package demo\n",
    "This notebook demonstrates SEHRD package functionality on a toy dataset."
   ]
  },
  {
   "cell_type": "markdown",
   "metadata": {},
   "source": [
    "## Setup"
   ]
  },
  {
   "cell_type": "markdown",
   "metadata": {},
   "source": [
    "### Import python and SEHRD modules"
   ]
  },
  {
   "cell_type": "code",
   "execution_count": 1,
   "metadata": {},
   "outputs": [],
   "source": [
    "import numpy as np\n",
    "import matplotlib.pyplot as plt\n",
    "from preprocessor import preprocessor\n",
    "from corgan import corgan\n",
    "from realism import realism\n",
    "from privacy import privacy"
   ]
  },
  {
   "cell_type": "markdown",
   "metadata": {},
   "source": [
    "### Set parameters for the toy dataset and demo"
   ]
  },
  {
   "cell_type": "code",
   "execution_count": 2,
   "metadata": {},
   "outputs": [],
   "source": [
    "# toy dataset\n",
    "n = 1000\n",
    "count_min = 5\n",
    "count_max = 19\n",
    "constant_value = 'helloworld'\n",
    "binary_A = 'A'\n",
    "binary_B = 'B'\n",
    "categorical_values = ['X','Y','Z']\n",
    "\n",
    "# synthetic data generation and validation\n",
    "n_gen = n\n",
    "outcome = 'binary01'\n",
    "\n",
    "# sehrd objects\n",
    "pre = preprocessor(missing_value=-99999)\n",
    "rea = realism(missing_value=-99999)\n",
    "pri = privacy()"
   ]
  },
  {
   "cell_type": "markdown",
   "metadata": {},
   "source": [
    "### Generate the toy dataset"
   ]
  },
  {
   "cell_type": "code",
   "execution_count": 3,
   "metadata": {},
   "outputs": [
    {
     "name": "stdout",
     "output_type": "stream",
     "text": [
      "[['helloworld' '1' 'A' 'Y' '9' '0.37002199749977616']\n",
      " ['helloworld' '0' 'A' 'Z' '8' '0.1860794840337383']\n",
      " ['helloworld' '0' 'A' 'Y' '5' '0.8703955004367476']\n",
      " ...\n",
      " ['helloworld' '1' 'A' 'Y' '9' '0.9870010058213332']\n",
      " ['helloworld' '0' 'A' 'Z' '8' '0.823530507537056']\n",
      " ['helloworld' '0' 'B' 'Y' '8' '0.7188705379110303']]\n"
     ]
    }
   ],
   "source": [
    "names = ['constant','binary01', 'binaryAB', 'categorical','count','continuous']\n",
    "v_constant = np.full(shape=n, fill_value=constant_value)\n",
    "v_binary01 = np.random.randint(low=0, high=2, size=n)\n",
    "v_binaryAB = np.concatenate((np.full(shape=n-1, fill_value=binary_A), np.array([binary_B])))\n",
    "v_categorical = np.random.choice(categorical_values, size=n)\n",
    "v_count = np.random.randint(low=count_min, high=count_max+1, size=n)\n",
    "v_continuous = np.random.random(size=n)\n",
    "x = np.column_stack((v_constant, v_binary01, v_binaryAB, v_categorical, v_count, v_continuous))\n",
    "print(x)"
   ]
  },
  {
   "cell_type": "markdown",
   "metadata": {},
   "source": [
    "## Preprocessing"
   ]
  },
  {
   "cell_type": "markdown",
   "metadata": {},
   "source": [
    "### Save metadata for restoring data format after synthetic data generation"
   ]
  },
  {
   "cell_type": "code",
   "execution_count": 4,
   "metadata": {},
   "outputs": [
    {
     "name": "stdout",
     "output_type": "stream",
     "text": [
      "var_name, var_type, min, max, zero, one\n",
      "[('constant', 'constant', 0.00000000e+00,  0.        , 'helloworld', '')\n",
      " ('binary01', 'binary', 0.00000000e+00,  0.        , '1', '0')\n",
      " ('binaryAB', 'binary', 0.00000000e+00,  0.        , 'A', 'B')\n",
      " ('categorical', 'categorical', 0.00000000e+00,  0.        , '', '')\n",
      " ('count', 'count', 5.00000000e+00, 19.        , '', '')\n",
      " ('continuous', 'continuous', 2.04954651e-03,  0.99758709, '', '')]\n"
     ]
    }
   ],
   "source": [
    "m = pre.get_metadata(x=x, header=names)\n",
    "print('var_name, var_type, min, max, zero, one')\n",
    "print(m)"
   ]
  },
  {
   "cell_type": "markdown",
   "metadata": {},
   "source": [
    "### Encode raw data matrix in preparation for training synthetic data generator\n",
    "Note that count and continuous variables have been scaled between 0 and 1 while constant, categorical, and binary have been one-hot encoded."
   ]
  },
  {
   "cell_type": "code",
   "execution_count": 5,
   "metadata": {},
   "outputs": [
    {
     "name": "stdout",
     "output_type": "stream",
     "text": [
      "Formatted matrix:\n",
      "[[0.         0.         0.         ... 0.         0.28571429 0.36962187]\n",
      " [0.         1.         0.         ... 1.         0.21428571 0.18485484]\n",
      " [0.         1.         0.         ... 0.         0.         0.87223828]\n",
      " ...\n",
      " [0.         0.         0.         ... 0.         0.28571429 0.98936646]\n",
      " [0.         1.         0.         ... 1.         0.21428571 0.82516321]\n",
      " [0.         1.         1.         ... 0.         0.21428571 0.72003411]]\n",
      "\n",
      "Header for formatted matrix:\n",
      "['constant' 'binary01' 'binaryAB' 'categorical__X' 'categorical__Y'\n",
      " 'categorical__Z' 'count' 'continuous']\n"
     ]
    }
   ],
   "source": [
    "d = pre.get_discretized_matrix(x, m, names)\n",
    "print('Formatted matrix:')\n",
    "print(d['x'])\n",
    "print('\\nHeader for formatted matrix:')\n",
    "print(d['header'])"
   ]
  },
  {
   "cell_type": "markdown",
   "metadata": {},
   "source": [
    "## Generation"
   ]
  },
  {
   "cell_type": "markdown",
   "metadata": {},
   "source": [
    "### Train CorGAN model "
   ]
  },
  {
   "cell_type": "code",
   "execution_count": 6,
   "metadata": {},
   "outputs": [],
   "source": [
    "model = corgan.train(corgan, x=d['x'], n_cpu=15)"
   ]
  },
  {
   "cell_type": "markdown",
   "metadata": {},
   "source": [
    "### Generate synthetic samples"
   ]
  },
  {
   "cell_type": "code",
   "execution_count": 7,
   "metadata": {},
   "outputs": [
    {
     "name": "stdout",
     "output_type": "stream",
     "text": [
      "[[2.58412585e-03 6.29162908e-01 4.75885253e-03 ... 5.29502379e-03\n",
      "  9.85274553e-01 1.90282334e-02]\n",
      " [2.13776575e-03 1.19655453e-01 2.71671219e-03 ... 6.67476952e-01\n",
      "  2.21674606e-01 9.99291539e-01]\n",
      " [1.27386553e-02 4.66748148e-01 9.11706965e-03 ... 3.56076032e-01\n",
      "  3.92702632e-02 3.72624286e-02]\n",
      " ...\n",
      " [4.31943918e-03 3.26998328e-04 5.61657082e-03 ... 3.34696192e-03\n",
      "  6.83605671e-02 6.82640374e-01]\n",
      " [9.74496827e-03 9.64559257e-01 2.24676938e-03 ... 2.13714410e-02\n",
      "  9.41098750e-01 5.54490268e-01]\n",
      " [4.47711069e-03 3.52477133e-01 2.86278990e-03 ... 1.00328110e-01\n",
      "  7.43961990e-01 7.79850245e-01]]\n"
     ]
    }
   ],
   "source": [
    "s = corgan.generate(model, n_gen)\n",
    "print(s)"
   ]
  },
  {
   "cell_type": "markdown",
   "metadata": {},
   "source": [
    "### Use metadata to restore original formatting"
   ]
  },
  {
   "cell_type": "code",
   "execution_count": 8,
   "metadata": {},
   "outputs": [
    {
     "name": "stdout",
     "output_type": "stream",
     "text": [
      "Synthetic samples:\n",
      "[['helloworld' '1' 'A' 'Y' 19.0 0.020992867276345882]\n",
      " ['helloworld' '1' 'A' 'Z' 8.0 0.9968817941693895]\n",
      " ['helloworld' '1' 'A' 'Y' 6.0 0.039145693224921944]\n",
      " ...\n",
      " ['helloworld' '1' 'A' 'X' 6.0 0.6816436696290123]\n",
      " ['helloworld' '1' 'A' 'X' 18.0 0.5540654279759265]\n",
      " ['helloworld' '1' 'A' 'X' 15.0 0.7784197459641394]]\n",
      "\n",
      "Real samples:\n",
      "[['helloworld' '1' 'A' 'Y' '9' '0.37002199749977616']\n",
      " ['helloworld' '0' 'A' 'Z' '8' '0.1860794840337383']\n",
      " ['helloworld' '0' 'A' 'Y' '5' '0.8703955004367476']\n",
      " ...\n",
      " ['helloworld' '1' 'A' 'Y' '9' '0.9870010058213332']\n",
      " ['helloworld' '0' 'A' 'Z' '8' '0.823530507537056']\n",
      " ['helloworld' '0' 'B' 'Y' '8' '0.7188705379110303']]\n"
     ]
    }
   ],
   "source": [
    "f = pre.restore_matrix(s=s, m=m, header=d['header'])\n",
    "print('Synthetic samples:')\n",
    "print(f['x'])\n",
    "print('\\nReal samples:')\n",
    "print(x)"
   ]
  },
  {
   "cell_type": "markdown",
   "metadata": {},
   "source": [
    "## Realism"
   ]
  },
  {
   "cell_type": "markdown",
   "metadata": {},
   "source": [
    "### Compare univariate frequency for real and synthetic features"
   ]
  },
  {
   "cell_type": "code",
   "execution_count": 9,
   "metadata": {},
   "outputs": [
    {
     "name": "stdout",
     "output_type": "stream",
     "text": [
      "Correlation between feature frequencies = 0.98\n"
     ]
    }
   ],
   "source": [
    "res_uni = rea.validate_univariate(r=d['x'], s=s, header=d['header'], discretized=True)\n",
    "corr_uni = np.corrcoef(x=res_uni['frq_r'], y=res_uni['frq_s'])[0,1]\n",
    "print('Correlation between feature frequencies =',np.round(corr_uni,2))"
   ]
  },
  {
   "cell_type": "markdown",
   "metadata": {},
   "source": [
    "Plot the synthetic and real feature frequencies for each feature..."
   ]
  },
  {
   "cell_type": "code",
   "execution_count": 10,
   "metadata": {},
   "outputs": [
    {
     "data": {
      "text/plain": [
       "<matplotlib.legend.Legend at 0x7fa8e8b99450>"
      ]
     },
     "execution_count": 10,
     "metadata": {},
     "output_type": "execute_result"
    },
    {
     "data": {
      "image/png": "[encoded data removed]",
      "text/plain": [
       "<Figure size 432x288 with 1 Axes>"
      ]
     },
     "metadata": {
      "needs_background": "light"
     },
     "output_type": "display_data"
    }
   ],
   "source": [
    "fontsize = 14\n",
    "fig, ax1 = plt.subplots(1,1)\n",
    "ax1.plot([0,1],[0,1], color=\"gray\", linestyle='--')\n",
    "ax1.scatter(res_uni['frq_r'], res_uni['frq_s'], label='Frequency')\n",
    "ax1.set_xlabel('Real feature frequency', fontsize=fontsize)\n",
    "ax1.set_ylabel('Synthetic feature frequency', fontsize=fontsize)\n",
    "ax1.set_xlim([0, 1])\n",
    "ax1.set_ylim([0, 1])\n",
    "ax1.tick_params(axis='x', labelsize=fontsize)\n",
    "ax1.tick_params(axis='y', labelsize=fontsize)\n",
    "ax1.legend(fontsize=fontsize)"
   ]
  },
  {
   "cell_type": "markdown",
   "metadata": {},
   "source": [
    "### Compare predictive performance\n",
    "* Real: use real dataset to train predictive model and test on a separate real dataset\n",
    "* GAN-train: use synthetic dataset to train predictive model and test on a real dataset\n",
    "*GAN-test: use real dataset to train predictive model and test on the synthetic dataset"
   ]
  },
  {
   "cell_type": "code",
   "execution_count": 11,
   "metadata": {},
   "outputs": [
    {
     "name": "stdout",
     "output_type": "stream",
     "text": [
      "Extract outcome 'binary01' from real and synthetic datasets\n"
     ]
    }
   ],
   "source": [
    "print('Extract outcome \\'', outcome,'\\' from real and synthetic datasets', sep='')"
   ]
  },
  {
   "cell_type": "code",
   "execution_count": 12,
   "metadata": {},
   "outputs": [
    {
     "name": "stdout",
     "output_type": "stream",
     "text": [
      "Real dataset dimensions: (1000, 7)\n",
      "Synthetic dataset dimensions: (1000, 7)\n"
     ]
    }
   ],
   "source": [
    "r = d['x']\n",
    "\n",
    "idx_outcome = np.where(d['header'] == outcome)\n",
    "y_r = np.reshape(np.round(np.reshape(r[:,idx_outcome], newshape=(len(r),1))).astype(int), len(r))\n",
    "y_s = np.reshape(np.round(np.reshape(s[:,idx_outcome], newshape=(len(s),1))).astype(int), len(s))\n",
    "x_r = np.delete(r, idx_outcome, axis=1)\n",
    "x_s = np.delete(s, idx_outcome, axis=1)\n",
    "\n",
    "print('Real dataset dimensions:',x_r.shape)\n",
    "print('Synthetic dataset dimensions:',x_s.shape)"
   ]
  },
  {
   "cell_type": "markdown",
   "metadata": {},
   "source": [
    "Train model for each validation test"
   ]
  },
  {
   "cell_type": "code",
   "execution_count": 17,
   "metadata": {},
   "outputs": [],
   "source": [
    "n_epoch = 20\n",
    "model_type='lr'\n",
    "\n",
    "res_gan_real = rea.gan_train(x_r, y_r, x_r, y_r, n_epoch=n_epoch, model_type=model_type)\n",
    "res_gan_train = rea.gan_train(x_s, y_s, x_r, y_r, n_epoch=n_epoch, model_type=model_type)\n",
    "res_gan_test = rea.gan_test(x_s, y_s, x_r, y_r, n_epoch=n_epoch, model_type=model_type)"
   ]
  },
  {
   "cell_type": "markdown",
   "metadata": {},
   "source": [
    "Plot resulting ROC curves"
   ]
  },
  {
   "cell_type": "code",
   "execution_count": 18,
   "metadata": {},
   "outputs": [
    {
     "data": {
      "text/plain": [
       "Text(0, 0.5, 'True positive rate')"
      ]
     },
     "execution_count": 18,
     "metadata": {},
     "output_type": "execute_result"
    },
    {
     "data": {
      "image/png": "[encoded data removed]",
      "text/plain": [
       "<Figure size 432x288 with 1 Axes>"
      ]
     },
     "metadata": {
      "needs_background": "light"
     },
     "output_type": "display_data"
    }
   ],
   "source": [
    "fontsize = 14\n",
    "fig, ax3 = plt.subplots(1,1)\n",
    "ax3.plot(res_gan_real['roc'][0], res_gan_real['roc'][1], label=\"Real\")\n",
    "ax3.plot(res_gan_train['roc'][0], res_gan_train['roc'][1], label=\"GAN-train\")\n",
    "ax3.plot(res_gan_test['roc'][0], res_gan_test['roc'][1], label=\"GAN-test\")\n",
    "ax3.plot([0,1],[0,1], color=\"gray\", linestyle='--')\n",
    "ax3.tick_params(axis='x', labelsize=fontsize)\n",
    "ax3.tick_params(axis='y', labelsize=fontsize)\n",
    "ax3.legend(fontsize=fontsize)\n",
    "ax3.set_xlabel('False positive rate', fontsize=fontsize)\n",
    "ax3.set_ylabel('True positive rate', fontsize=fontsize)"
   ]
  },
  {
   "cell_type": "markdown",
   "metadata": {},
   "source": [
    "## Privacy"
   ]
  },
  {
   "cell_type": "markdown",
   "metadata": {},
   "source": [
    "## Nearest neighbors\n",
    "Ensure that synthetic dataset is not a copy of the real dataset by comparing distances between pairs of real and synthetic samples\n",
    "* Real-real: distance between randomly selected pairs of real samples\n",
    "* Real-synthetic: distance between pairs of real and synthetic samples\n",
    "* Real-probabilistic: distance between a real sample and sampled binary vector where each column is sampled from a binomial where the frequency equals that in the real training set\n",
    "* Real-random: distance between a real sample and a randomly sampled binary vector"
   ]
  },
  {
   "cell_type": "code",
   "execution_count": 19,
   "metadata": {},
   "outputs": [
    {
     "name": "stdout",
     "output_type": "stream",
     "text": [
      "Mean nearest neighbor distance: \n",
      "  > Real-real:\t\t0.12\n",
      "  > Real-synthetic:\t0.37\n",
      "  > Real-probabilistic: 0.44\n",
      "  > Real-random:\t0.77\n"
     ]
    }
   ],
   "source": [
    "n_nn_sample = 100\n",
    "dist_metric = 'euclidean'\n",
    "n_decimal=2\n",
    "\n",
    "idx_r = np.random.randint(low=0, high=len(r), size=min((len(r), n_nn_sample)))\n",
    "idx_s = np.random.randint(low=0, high=len(s), size=min((len(s), n_nn_sample)))\n",
    "res_nn = pri.assess_memorization(r[idx_r,:], s[idx_s,:], metric=dist_metric)\n",
    "\n",
    "print('Mean nearest neighbor distance: ')\n",
    "print('  > Real-real:\\t\\t'+str(np.round(np.mean(res_nn['real']),n_decimal)))\n",
    "print('  > Real-synthetic:\\t'+str(np.round(np.mean(res_nn['synth']),n_decimal)))\n",
    "print('  > Real-probabilistic: '+str(np.round(np.mean(res_nn['prob']),n_decimal)))\n",
    "print('  > Real-random:\\t'+str(np.round(np.mean(res_nn['rand']),n_decimal)))"
   ]
  },
  {
   "cell_type": "markdown",
   "metadata": {},
   "source": [
    "Plot distributions for nearest neighbor distances"
   ]
  },
  {
   "cell_type": "code",
   "execution_count": 20,
   "metadata": {},
   "outputs": [
    {
     "data": {
      "text/plain": [
       "<matplotlib.legend.Legend at 0x7fa8f8799c90>"
      ]
     },
     "execution_count": 20,
     "metadata": {},
     "output_type": "execute_result"
    },
    {
     "data": {
      "image/png": "[encoded data removed]",
      "text/plain": [
       "<Figure size 432x288 with 1 Axes>"
      ]
     },
     "metadata": {
      "needs_background": "light"
     },
     "output_type": "display_data"
    }
   ],
   "source": [
    "fontsize = 14\n",
    "fig, ax2 = plt.subplots(1,1)\n",
    "ax2.hist((res_nn['real'], res_nn['synth'], \n",
    "          res_nn['prob'], res_nn['rand']),\n",
    "         bins=30, \n",
    "         label = ['Real-real','Real-synthetic','Real-probabilistic','Real-random'])\n",
    "ax2.set_xlabel(dist_metric.capitalize()+' distance', fontsize=fontsize)\n",
    "ax2.set_ylabel('Number of samples', fontsize=fontsize)\n",
    "ax2.tick_params(axis='x', labelsize=fontsize)\n",
    "ax2.tick_params(axis='y', labelsize=fontsize)\n",
    "ax2.legend(fontsize=fontsize)\n"
   ]
  }
 ],
 "metadata": {
  "kernelspec": {
   "display_name": "Python 3",
   "language": "python",
   "name": "python3"
  },
  "language_info": {
   "codemirror_mode": {
    "name": "ipython",
    "version": 3
   },
   "file_extension": ".py",
   "mimetype": "text/x-python",
   "name": "python",
   "nbconvert_exporter": "python",
   "pygments_lexer": "ipython3",
   "version": "3.7.4"
  }
 },
 "nbformat": 4,
 "nbformat_minor": 4
}
