{
 "cells": [
  {
   "cell_type": "markdown",
   "metadata": {},
   "source": [
    "# Synthetic Electronic Health Record Data (SEHRD) package demo\n",
    "This notebook demonstrates SEHRD package functionality on a toy dataset."
   ]
  },
  {
   "cell_type": "markdown",
   "metadata": {},
   "source": [
    "## Setup"
   ]
  },
  {
   "cell_type": "markdown",
   "metadata": {},
   "source": [
    "### Import python and SEHRD modules"
   ]
  },
  {
   "cell_type": "code",
   "execution_count": 1,
   "metadata": {},
   "outputs": [],
   "source": [
    "import numpy as np\n",
    "import matplotlib.pyplot as plt\n",
    "from preprocessor import preprocessor\n",
    "from corgan import corgan\n",
    "from realism import realism\n",
    "from privacy import privacy"
   ]
  },
  {
   "cell_type": "markdown",
   "metadata": {},
   "source": [
    "### Set parameters for the toy dataset and demo"
   ]
  },
  {
   "cell_type": "code",
   "execution_count": 2,
   "metadata": {},
   "outputs": [],
   "source": [
    "# toy dataset\n",
    "n = 1000\n",
    "count_min = 5\n",
    "count_max = 19\n",
    "constant_value = 'helloworld'\n",
    "binary_A = 'A'\n",
    "binary_B = 'B'\n",
    "categorical_values = ['X','Y','Z']\n",
    "\n",
    "# synthetic data generation and validation\n",
    "n_gen = n\n",
    "outcome = 'binary01'\n",
    "\n",
    "# sehrd objects\n",
    "pre = preprocessor(missing_value=-99999)\n",
    "rea = realism(missing_value=-99999)\n",
    "pri = privacy()\n",
    "cor = corgan()"
   ]
  },
  {
   "cell_type": "markdown",
   "metadata": {},
   "source": [
    "### Generate the toy dataset"
   ]
  },
  {
   "cell_type": "code",
   "execution_count": 3,
   "metadata": {},
   "outputs": [
    {
     "name": "stdout",
     "output_type": "stream",
     "text": [
      "[['helloworld' '0' 'A' 'Y' '6' '0.9218691507903986']\n",
      " ['helloworld' '0' 'A' 'Z' '16' '0.9070388200743605']\n",
      " ['helloworld' '0' 'A' 'Z' '6' '0.32083866636421954']\n",
      " ...\n",
      " ['helloworld' '1' 'A' 'X' '14' '0.6427227159526024']\n",
      " ['helloworld' '1' 'A' 'X' '17' '0.2591951141255239']\n",
      " ['helloworld' '1' 'B' 'Y' '7' '0.5518645575242592']]\n"
     ]
    }
   ],
   "source": [
    "names = ['constant','binary01', 'binaryAB', 'categorical','count','continuous']\n",
    "v_constant = np.full(shape=n, fill_value=constant_value)\n",
    "v_binary01 = np.random.randint(low=0, high=2, size=n)\n",
    "v_binaryAB = np.concatenate((np.full(shape=n-1, fill_value=binary_A), np.array([binary_B])))\n",
    "v_categorical = np.random.choice(categorical_values, size=n)\n",
    "v_count = np.random.randint(low=count_min, high=count_max+1, size=n)\n",
    "v_continuous = np.random.random(size=n)\n",
    "x = np.column_stack((v_constant, v_binary01, v_binaryAB, v_categorical, v_count, v_continuous))\n",
    "print(x)"
   ]
  },
  {
   "cell_type": "markdown",
   "metadata": {},
   "source": [
    "## Preprocessing"
   ]
  },
  {
   "cell_type": "markdown",
   "metadata": {},
   "source": [
    "### Save metadata for restoring data format after synthetic data generation"
   ]
  },
  {
   "cell_type": "code",
   "execution_count": 4,
   "metadata": {},
   "outputs": [
    {
     "name": "stdout",
     "output_type": "stream",
     "text": [
      "var_name, var_type, min, max, zero, one\n",
      "[('constant', 'constant', 0.00000000e+00,  0.        , 'helloworld', '')\n",
      " ('binary01', 'binary', 0.00000000e+00,  0.        , '0', '1')\n",
      " ('binaryAB', 'binary', 0.00000000e+00,  0.        , 'A', 'B')\n",
      " ('categorical', 'categorical', 0.00000000e+00,  0.        , '', '')\n",
      " ('count', 'count', 5.00000000e+00, 19.        , '', '')\n",
      " ('continuous', 'continuous', 1.42370504e-04,  0.99947208, '', '')]\n"
     ]
    }
   ],
   "source": [
    "m = pre.get_metadata(x=x, header=names)\n",
    "print('var_name, var_type, min, max, zero, one')\n",
    "print(m)"
   ]
  },
  {
   "cell_type": "markdown",
   "metadata": {},
   "source": [
    "### Encode raw data matrix in preparation for training synthetic data generator\n",
    "Note that count and continuous variables have been scaled between 0 and 1 while constant, categorical, and binary have been one-hot encoded."
   ]
  },
  {
   "cell_type": "code",
   "execution_count": 5,
   "metadata": {},
   "outputs": [
    {
     "name": "stdout",
     "output_type": "stream",
     "text": [
      "Formatted matrix:\n",
      "[[0.         0.         0.         ... 0.         0.07142857 0.92234502]\n",
      " [0.         0.         0.         ... 1.         0.78571429 0.90750474]\n",
      " [0.         0.         0.         ... 1.         0.07142857 0.3209114 ]\n",
      " ...\n",
      " [0.         1.         0.         ... 0.         0.64285714 0.64301135]\n",
      " [0.         1.         0.         ... 0.         0.85714286 0.2592265 ]\n",
      " [0.         1.         1.         ... 0.         0.14285714 0.55209225]]\n",
      "\n",
      "Header for formatted matrix:\n",
      "['constant' 'binary01' 'binaryAB' 'categorical__X' 'categorical__Y'\n",
      " 'categorical__Z' 'count' 'continuous']\n"
     ]
    }
   ],
   "source": [
    "d = pre.get_discretized_matrix(x, m, names)\n",
    "print('Formatted matrix:')\n",
    "print(d['x'])\n",
    "print('\\nHeader for formatted matrix:')\n",
    "print(d['header'])"
   ]
  },
  {
   "cell_type": "markdown",
   "metadata": {},
   "source": [
    "## Generation"
   ]
  },
  {
   "cell_type": "markdown",
   "metadata": {},
   "source": [
    "### Train CorGAN model "
   ]
  },
  {
   "cell_type": "code",
   "execution_count": 6,
   "metadata": {},
   "outputs": [],
   "source": [
    "model = cor.train(x=d['x'], n_cpu=15)"
   ]
  },
  {
   "cell_type": "markdown",
   "metadata": {},
   "source": [
    "### Generate synthetic samples"
   ]
  },
  {
   "cell_type": "code",
   "execution_count": 7,
   "metadata": {},
   "outputs": [
    {
     "name": "stdout",
     "output_type": "stream",
     "text": [
      "[[7.90974591e-03 5.30771492e-03 3.80635285e-03 ... 3.21569294e-01\n",
      "  6.31566048e-01 9.93109941e-01]\n",
      " [2.03271490e-03 8.65365624e-01 1.58252439e-03 ... 1.54353608e-03\n",
      "  4.70247984e-01 1.61064335e-03]\n",
      " [4.37405379e-03 8.84063303e-01 4.10446618e-03 ... 5.49250835e-05\n",
      "  4.65826541e-01 3.61446261e-01]\n",
      " ...\n",
      " [3.38098151e-03 3.44019546e-03 4.46706498e-03 ... 3.76363099e-03\n",
      "  4.02297564e-02 1.47007396e-02]\n",
      " [6.20323513e-03 9.86800313e-01 6.57697674e-03 ... 7.93429255e-01\n",
      "  7.63886750e-01 9.88481998e-01]\n",
      " [1.94949154e-02 3.87154967e-01 1.11035155e-02 ... 9.95165825e-01\n",
      "  5.88445365e-01 9.91517961e-01]]\n"
     ]
    }
   ],
   "source": [
    "s = cor.generate(model, n_gen)\n",
    "print(s)"
   ]
  },
  {
   "cell_type": "markdown",
   "metadata": {},
   "source": [
    "### Use metadata to restore original formatting"
   ]
  },
  {
   "cell_type": "code",
   "execution_count": 8,
   "metadata": {},
   "outputs": [
    {
     "name": "stdout",
     "output_type": "stream",
     "text": [
      "Synthetic samples:\n",
      "[['helloworld' '0' 'A' 'X' '14.0' '0.9925866389615972']\n",
      " ['helloworld' '0' 'A' 'X' '12.0' '0.0017519342502336668']\n",
      " ['helloworld' '0' 'A' 'X' '12.0' '0.36134635759944195']\n",
      " ...\n",
      " ['helloworld' '0' 'A' 'X' '6.0' '0.014833256369307142']\n",
      " ['helloworld' '0' 'A' 'Z' '16.0' '0.9879617979929435']\n",
      " ['helloworld' '0' 'A' 'Z' '13.0' '0.9909957255950554']]\n",
      "\n",
      "Real samples:\n",
      "[['helloworld' '0' 'A' 'Y' '6' '0.9218691507903986']\n",
      " ['helloworld' '0' 'A' 'Z' '16' '0.9070388200743605']\n",
      " ['helloworld' '0' 'A' 'Z' '6' '0.32083866636421954']\n",
      " ...\n",
      " ['helloworld' '1' 'A' 'X' '14' '0.6427227159526024']\n",
      " ['helloworld' '1' 'A' 'X' '17' '0.2591951141255239']\n",
      " ['helloworld' '1' 'B' 'Y' '7' '0.5518645575242592']]\n"
     ]
    }
   ],
   "source": [
    "f = pre.restore_matrix(s=s, m=m, header=d['header'])\n",
    "print('Synthetic samples:')\n",
    "print(f['x'])\n",
    "print('\\nReal samples:')\n",
    "print(x)"
   ]
  },
  {
   "cell_type": "markdown",
   "metadata": {},
   "source": [
    "## Realism"
   ]
  },
  {
   "cell_type": "markdown",
   "metadata": {},
   "source": [
    "### Compare univariate frequency for real and synthetic features"
   ]
  },
  {
   "cell_type": "code",
   "execution_count": 9,
   "metadata": {},
   "outputs": [
    {
     "name": "stdout",
     "output_type": "stream",
     "text": [
      "Correlation between feature frequencies = 1.0\n"
     ]
    }
   ],
   "source": [
    "res_uni = rea.validate_univariate(r=d['x'], s=s, header=d['header'], discretized=True)\n",
    "corr_uni = np.corrcoef(x=res_uni['frq_r'], y=res_uni['frq_s'])[0,1]\n",
    "print('Correlation between feature frequencies =',np.round(corr_uni,2))"
   ]
  },
  {
   "cell_type": "markdown",
   "metadata": {},
   "source": [
    "Plot the synthetic and real feature frequencies for each feature..."
   ]
  },
  {
   "cell_type": "code",
   "execution_count": 10,
   "metadata": {},
   "outputs": [
    {
     "data": {
      "text/plain": [
       "<matplotlib.legend.Legend at 0x7fa36803ae10>"
      ]
     },
     "execution_count": 10,
     "metadata": {},
     "output_type": "execute_result"
    },
    {
     "data": {
      "image/png": "[encoded data removed]",
      "text/plain": [
       "<Figure size 432x288 with 1 Axes>"
      ]
     },
     "metadata": {
      "needs_background": "light"
     },
     "output_type": "display_data"
    }
   ],
   "source": [
    "fontsize = 14\n",
    "fig, ax1 = plt.subplots(1,1)\n",
    "ax1.plot([0,1],[0,1], color=\"gray\", linestyle='--')\n",
    "ax1.scatter(res_uni['frq_r'], res_uni['frq_s'], label='Frequency')\n",
    "ax1.set_xlabel('Real feature frequency', fontsize=fontsize)\n",
    "ax1.set_ylabel('Synthetic feature frequency', fontsize=fontsize)\n",
    "ax1.set_xlim([0, 1])\n",
    "ax1.set_ylim([0, 1])\n",
    "ax1.tick_params(axis='x', labelsize=fontsize)\n",
    "ax1.tick_params(axis='y', labelsize=fontsize)\n",
    "ax1.legend(fontsize=fontsize)"
   ]
  },
  {
   "cell_type": "markdown",
   "metadata": {},
   "source": [
    "### Compare predictive performance\n",
    "* Real: use real dataset to train predictive model and test on a separate real dataset\n",
    "* GAN-train: use synthetic dataset to train predictive model and test on a real dataset\n",
    "*GAN-test: use real dataset to train predictive model and test on the synthetic dataset"
   ]
  },
  {
   "cell_type": "code",
   "execution_count": 11,
   "metadata": {},
   "outputs": [
    {
     "name": "stdout",
     "output_type": "stream",
     "text": [
      "Extract outcome 'binary01' from real and synthetic datasets\n"
     ]
    }
   ],
   "source": [
    "print('Extract outcome \\'', outcome,'\\' from real and synthetic datasets', sep='')"
   ]
  },
  {
   "cell_type": "code",
   "execution_count": 12,
   "metadata": {},
   "outputs": [
    {
     "name": "stdout",
     "output_type": "stream",
     "text": [
      "Real dataset dimensions: (1000, 7)\n",
      "Synthetic dataset dimensions: (1000, 7)\n"
     ]
    }
   ],
   "source": [
    "r = d['x']\n",
    "\n",
    "idx_outcome = np.where(d['header'] == outcome)\n",
    "y_r = np.reshape(np.round(np.reshape(r[:,idx_outcome], newshape=(len(r),1))).astype(int), len(r))\n",
    "y_s = np.reshape(np.round(np.reshape(s[:,idx_outcome], newshape=(len(s),1))).astype(int), len(s))\n",
    "x_r = np.delete(r, idx_outcome, axis=1)\n",
    "x_s = np.delete(s, idx_outcome, axis=1)\n",
    "\n",
    "print('Real dataset dimensions:',x_r.shape)\n",
    "print('Synthetic dataset dimensions:',x_s.shape)"
   ]
  },
  {
   "cell_type": "markdown",
   "metadata": {},
   "source": [
    "Train model for each validation test"
   ]
  },
  {
   "cell_type": "code",
   "execution_count": 13,
   "metadata": {},
   "outputs": [],
   "source": [
    "n_epoch = 20\n",
    "model_type='lr'\n",
    "\n",
    "res_gan_real = rea.gan_train(x_r, y_r, x_r, y_r, n_epoch=n_epoch, model_type=model_type)\n",
    "res_gan_train = rea.gan_train(x_s, y_s, x_r, y_r, n_epoch=n_epoch, model_type=model_type)\n",
    "res_gan_test = rea.gan_test(x_s, y_s, x_r, y_r, n_epoch=n_epoch, model_type=model_type)"
   ]
  },
  {
   "cell_type": "markdown",
   "metadata": {},
   "source": [
    "Plot resulting ROC curves"
   ]
  },
  {
   "cell_type": "code",
   "execution_count": 14,
   "metadata": {},
   "outputs": [
    {
     "data": {
      "text/plain": [
       "Text(0, 0.5, 'True positive rate')"
      ]
     },
     "execution_count": 14,
     "metadata": {},
     "output_type": "execute_result"
    },
    {
     "data": {
      "image/png": "[encoded data removed]",
      "text/plain": [
       "<Figure size 432x288 with 1 Axes>"
      ]
     },
     "metadata": {
      "needs_background": "light"
     },
     "output_type": "display_data"
    }
   ],
   "source": [
    "fontsize = 14\n",
    "fig, ax3 = plt.subplots(1,1)\n",
    "ax3.plot(res_gan_real['roc'][0], res_gan_real['roc'][1], label=\"Real\")\n",
    "ax3.plot(res_gan_train['roc'][0], res_gan_train['roc'][1], label=\"GAN-train\")\n",
    "ax3.plot(res_gan_test['roc'][0], res_gan_test['roc'][1], label=\"GAN-test\")\n",
    "ax3.plot([0,1],[0,1], color=\"gray\", linestyle='--')\n",
    "ax3.tick_params(axis='x', labelsize=fontsize)\n",
    "ax3.tick_params(axis='y', labelsize=fontsize)\n",
    "ax3.legend(fontsize=fontsize)\n",
    "ax3.set_xlabel('False positive rate', fontsize=fontsize)\n",
    "ax3.set_ylabel('True positive rate', fontsize=fontsize)"
   ]
  },
  {
   "cell_type": "markdown",
   "metadata": {},
   "source": [
    "## Privacy"
   ]
  },
  {
   "cell_type": "markdown",
   "metadata": {},
   "source": [
    "## Nearest neighbors\n",
    "Ensure that synthetic dataset is not a copy of the real dataset by comparing distances between pairs of real and synthetic samples\n",
    "* Real-real: distance between randomly selected pairs of real samples\n",
    "* Real-synthetic: distance between pairs of real and synthetic samples\n",
    "* Real-probabilistic: distance between a real sample and sampled binary vector where each column is sampled from a binomial where the frequency equals that in the real training set\n",
    "* Real-random: distance between a real sample and a randomly sampled binary vector"
   ]
  },
  {
   "cell_type": "code",
   "execution_count": 15,
   "metadata": {},
   "outputs": [
    {
     "name": "stdout",
     "output_type": "stream",
     "text": [
      "Mean nearest neighbor distance: \n",
      "  > Real-real:\t\t0.13\n",
      "  > Real-synthetic:\t0.35\n",
      "  > Real-probabilistic: 0.44\n",
      "  > Real-random:\t0.65\n"
     ]
    }
   ],
   "source": [
    "n_nn_sample = 100\n",
    "dist_metric = 'euclidean'\n",
    "n_decimal=2\n",
    "\n",
    "idx_r = np.random.randint(low=0, high=len(r), size=min((len(r), n_nn_sample)))\n",
    "idx_s = np.random.randint(low=0, high=len(s), size=min((len(s), n_nn_sample)))\n",
    "res_nn = pri.assess_memorization(r[idx_r,:], s[idx_s,:], metric=dist_metric)\n",
    "\n",
    "print('Mean nearest neighbor distance: ')\n",
    "print('  > Real-real:\\t\\t'+str(np.round(np.mean(res_nn['real']),n_decimal)))\n",
    "print('  > Real-synthetic:\\t'+str(np.round(np.mean(res_nn['synth']),n_decimal)))\n",
    "print('  > Real-probabilistic: '+str(np.round(np.mean(res_nn['prob']),n_decimal)))\n",
    "print('  > Real-random:\\t'+str(np.round(np.mean(res_nn['rand']),n_decimal)))"
   ]
  },
  {
   "cell_type": "markdown",
   "metadata": {},
   "source": [
    "Plot distributions for nearest neighbor distances"
   ]
  },
  {
   "cell_type": "code",
   "execution_count": 16,
   "metadata": {},
   "outputs": [
    {
     "data": {
      "text/plain": [
       "<matplotlib.legend.Legend at 0x7fa388582b50>"
      ]
     },
     "execution_count": 16,
     "metadata": {},
     "output_type": "execute_result"
    },
    {
     "data": {
      "image/png": "[encoded data removed]",
      "text/plain": [
       "<Figure size 432x288 with 1 Axes>"
      ]
     },
     "metadata": {
      "needs_background": "light"
     },
     "output_type": "display_data"
    }
   ],
   "source": [
    "fontsize = 14\n",
    "fig, ax2 = plt.subplots(1,1)\n",
    "ax2.hist((res_nn['real'], res_nn['synth'], \n",
    "          res_nn['prob'], res_nn['rand']),\n",
    "         bins=30, \n",
    "         label = ['Real-real','Real-synthetic','Real-probabilistic','Real-random'])\n",
    "ax2.set_xlabel(dist_metric.capitalize()+' distance', fontsize=fontsize)\n",
    "ax2.set_ylabel('Number of samples', fontsize=fontsize)\n",
    "ax2.tick_params(axis='x', labelsize=fontsize)\n",
    "ax2.tick_params(axis='y', labelsize=fontsize)\n",
    "ax2.legend(fontsize=fontsize)\n"
   ]
  }
 ],
 "metadata": {
  "kernelspec": {
   "display_name": "Python 3",
   "language": "python",
   "name": "python3"
  },
  "language_info": {
   "codemirror_mode": {
    "name": "ipython",
    "version": 3
   },
   "file_extension": ".py",
   "mimetype": "text/x-python",
   "name": "python",
   "nbconvert_exporter": "python",
   "pygments_lexer": "ipython3",
   "version": "3.7.4"
  }
 },
 "nbformat": 4,
 "nbformat_minor": 4
}
